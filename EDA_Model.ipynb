{
  "cells": [
    {
      "cell_type": "markdown",
      "metadata": {
        "id": "bYj-RYkzBBvr"
      },
      "source": [
        "# 1. Analyze and Process the data"
      ]
    },
    {
      "cell_type": "code",
      "execution_count": 1,
      "metadata": {
        "colab": {
          "base_uri": "https://localhost:8080/"
        },
        "id": "gHAjZwHVBDwx",
        "outputId": "f548c3d5-d27a-4e19-ff88-5dd2d3ea36eb"
      },
      "outputs": [
        {
          "name": "stdout",
          "output_type": "stream",
          "text": [
            "Cloning into 'MachineLearningBasic'...\n",
            "remote: Enumerating objects: 36, done.\u001b[K\n",
            "remote: Counting objects: 100% (36/36), done.\u001b[K\n",
            "remote: Compressing objects: 100% (34/34), done.\u001b[K\n",
            "remote: Total 36 (delta 7), reused 0 (delta 0), pack-reused 0\u001b[K\n",
            "Unpacking objects: 100% (36/36), 9.70 MiB | 5.47 MiB/s, done.\n",
            "Collecting pandas_profiling\n",
            "  Downloading pandas_profiling-3.6.6-py2.py3-none-any.whl (324 kB)\n",
            "\u001b[2K     \u001b[90m━━━━━━━━━━━━━━━━━━━━━━━━━━━━━━━━━━━━━━━\u001b[0m \u001b[32m324.4/324.4 kB\u001b[0m \u001b[31m6.5 MB/s\u001b[0m eta \u001b[36m0:00:00\u001b[0m\n",
            "\u001b[?25hCollecting ydata-profiling (from pandas_profiling)\n",
            "  Downloading ydata_profiling-4.3.1-py2.py3-none-any.whl (352 kB)\n",
            "\u001b[2K     \u001b[90m━━━━━━━━━━━━━━━━━━━━━━━━━━━━━━━━━━━━━━\u001b[0m \u001b[32m353.0/353.0 kB\u001b[0m \u001b[31m31.7 MB/s\u001b[0m eta \u001b[36m0:00:00\u001b[0m\n",
            "\u001b[?25hRequirement already satisfied: scipy<1.11,>=1.4.1 in /usr/local/lib/python3.10/dist-packages (from ydata-profiling->pandas_profiling) (1.10.1)\n",
            "Requirement already satisfied: pandas!=1.4.0,<2.1,>1.1 in /usr/local/lib/python3.10/dist-packages (from ydata-profiling->pandas_profiling) (1.5.3)\n",
            "Requirement already satisfied: matplotlib<4,>=3.2 in /usr/local/lib/python3.10/dist-packages (from ydata-profiling->pandas_profiling) (3.7.1)\n",
            "Requirement already satisfied: pydantic<2,>=1.8.1 in /usr/local/lib/python3.10/dist-packages (from ydata-profiling->pandas_profiling) (1.10.9)\n",
            "Requirement already satisfied: PyYAML<6.1,>=5.0.0 in /usr/local/lib/python3.10/dist-packages (from ydata-profiling->pandas_profiling) (6.0)\n",
            "Requirement already satisfied: jinja2<3.2,>=2.11.1 in /usr/local/lib/python3.10/dist-packages (from ydata-profiling->pandas_profiling) (3.1.2)\n",
            "Collecting visions[type_image_path]==0.7.5 (from ydata-profiling->pandas_profiling)\n",
            "  Downloading visions-0.7.5-py3-none-any.whl (102 kB)\n",
            "\u001b[2K     \u001b[90m━━━━━━━━━━━━━━━━━━━━━━━━━━━━━━━━━━━━━━\u001b[0m \u001b[32m102.7/102.7 kB\u001b[0m \u001b[31m11.9 MB/s\u001b[0m eta \u001b[36m0:00:00\u001b[0m\n",
            "\u001b[?25hRequirement already satisfied: numpy<1.24,>=1.16.0 in /usr/local/lib/python3.10/dist-packages (from ydata-profiling->pandas_profiling) (1.22.4)\n",
            "Collecting htmlmin==0.1.12 (from ydata-profiling->pandas_profiling)\n",
            "  Downloading htmlmin-0.1.12.tar.gz (19 kB)\n",
            "  Preparing metadata (setup.py) ... \u001b[?25l\u001b[?25hdone\n",
            "Collecting phik<0.13,>=0.11.1 (from ydata-profiling->pandas_profiling)\n",
            "  Downloading phik-0.12.3-cp310-cp310-manylinux_2_17_x86_64.manylinux2014_x86_64.whl (679 kB)\n",
            "\u001b[2K     \u001b[90m━━━━━━━━━━━━━━━━━━━━━━━━━━━━━━━━━━━━━━\u001b[0m \u001b[32m679.5/679.5 kB\u001b[0m \u001b[31m44.4 MB/s\u001b[0m eta \u001b[36m0:00:00\u001b[0m\n",
            "\u001b[?25hRequirement already satisfied: requests<3,>=2.24.0 in /usr/local/lib/python3.10/dist-packages (from ydata-profiling->pandas_profiling) (2.27.1)\n",
            "Requirement already satisfied: tqdm<5,>=4.48.2 in /usr/local/lib/python3.10/dist-packages (from ydata-profiling->pandas_profiling) (4.65.0)\n",
            "Requirement already satisfied: seaborn<0.13,>=0.10.1 in /usr/local/lib/python3.10/dist-packages (from ydata-profiling->pandas_profiling) (0.12.2)\n",
            "Collecting multimethod<2,>=1.4 (from ydata-profiling->pandas_profiling)\n",
            "  Downloading multimethod-1.9.1-py3-none-any.whl (10 kB)\n",
            "Requirement already satisfied: statsmodels<1,>=0.13.2 in /usr/local/lib/python3.10/dist-packages (from ydata-profiling->pandas_profiling) (0.13.5)\n",
            "Collecting typeguard<3,>=2.13.2 (from ydata-profiling->pandas_profiling)\n",
            "  Downloading typeguard-2.13.3-py3-none-any.whl (17 kB)\n",
            "Collecting imagehash==4.3.1 (from ydata-profiling->pandas_profiling)\n",
            "  Downloading ImageHash-4.3.1-py2.py3-none-any.whl (296 kB)\n",
            "\u001b[2K     \u001b[90m━━━━━━━━━━━━━━━━━━━━━━━━━━━━━━━━━━━━━━\u001b[0m \u001b[32m296.5/296.5 kB\u001b[0m \u001b[31m17.4 MB/s\u001b[0m eta \u001b[36m0:00:00\u001b[0m\n",
            "\u001b[?25hCollecting wordcloud>=1.9.1 (from ydata-profiling->pandas_profiling)\n",
            "  Downloading wordcloud-1.9.2-cp310-cp310-manylinux_2_17_x86_64.manylinux2014_x86_64.whl (455 kB)\n",
            "\u001b[2K     \u001b[90m━━━━━━━━━━━━━━━━━━━━━━━━━━━━━━━━━━━━━━\u001b[0m \u001b[32m455.4/455.4 kB\u001b[0m \u001b[31m39.6 MB/s\u001b[0m eta \u001b[36m0:00:00\u001b[0m\n",
            "\u001b[?25hCollecting dacite>=1.8 (from ydata-profiling->pandas_profiling)\n",
            "  Downloading dacite-1.8.1-py3-none-any.whl (14 kB)\n",
            "Requirement already satisfied: PyWavelets in /usr/local/lib/python3.10/dist-packages (from imagehash==4.3.1->ydata-profiling->pandas_profiling) (1.4.1)\n",
            "Requirement already satisfied: pillow in /usr/local/lib/python3.10/dist-packages (from imagehash==4.3.1->ydata-profiling->pandas_profiling) (8.4.0)\n",
            "Requirement already satisfied: attrs>=19.3.0 in /usr/local/lib/python3.10/dist-packages (from visions[type_image_path]==0.7.5->ydata-profiling->pandas_profiling) (23.1.0)\n",
            "Requirement already satisfied: networkx>=2.4 in /usr/local/lib/python3.10/dist-packages (from visions[type_image_path]==0.7.5->ydata-profiling->pandas_profiling) (3.1)\n",
            "Collecting tangled-up-in-unicode>=0.0.4 (from visions[type_image_path]==0.7.5->ydata-profiling->pandas_profiling)\n",
            "  Downloading tangled_up_in_unicode-0.2.0-py3-none-any.whl (4.7 MB)\n",
            "\u001b[2K     \u001b[90m━━━━━━━━━━━━━━━━━━━━━━━━━━━━━━━━━━━━━━━━\u001b[0m \u001b[32m4.7/4.7 MB\u001b[0m \u001b[31m60.7 MB/s\u001b[0m eta \u001b[36m0:00:00\u001b[0m\n",
            "\u001b[?25hRequirement already satisfied: MarkupSafe>=2.0 in /usr/local/lib/python3.10/dist-packages (from jinja2<3.2,>=2.11.1->ydata-profiling->pandas_profiling) (2.1.3)\n",
            "Requirement already satisfied: contourpy>=1.0.1 in /usr/local/lib/python3.10/dist-packages (from matplotlib<4,>=3.2->ydata-profiling->pandas_profiling) (1.1.0)\n",
            "Requirement already satisfied: cycler>=0.10 in /usr/local/lib/python3.10/dist-packages (from matplotlib<4,>=3.2->ydata-profiling->pandas_profiling) (0.11.0)\n",
            "Requirement already satisfied: fonttools>=4.22.0 in /usr/local/lib/python3.10/dist-packages (from matplotlib<4,>=3.2->ydata-profiling->pandas_profiling) (4.40.0)\n",
            "Requirement already satisfied: kiwisolver>=1.0.1 in /usr/local/lib/python3.10/dist-packages (from matplotlib<4,>=3.2->ydata-profiling->pandas_profiling) (1.4.4)\n",
            "Requirement already satisfied: packaging>=20.0 in /usr/local/lib/python3.10/dist-packages (from matplotlib<4,>=3.2->ydata-profiling->pandas_profiling) (23.1)\n",
            "Requirement already satisfied: pyparsing>=2.3.1 in /usr/local/lib/python3.10/dist-packages (from matplotlib<4,>=3.2->ydata-profiling->pandas_profiling) (3.1.0)\n",
            "Requirement already satisfied: python-dateutil>=2.7 in /usr/local/lib/python3.10/dist-packages (from matplotlib<4,>=3.2->ydata-profiling->pandas_profiling) (2.8.2)\n",
            "Requirement already satisfied: pytz>=2020.1 in /usr/local/lib/python3.10/dist-packages (from pandas!=1.4.0,<2.1,>1.1->ydata-profiling->pandas_profiling) (2022.7.1)\n",
            "Requirement already satisfied: joblib>=0.14.1 in /usr/local/lib/python3.10/dist-packages (from phik<0.13,>=0.11.1->ydata-profiling->pandas_profiling) (1.2.0)\n",
            "Requirement already satisfied: typing-extensions>=4.2.0 in /usr/local/lib/python3.10/dist-packages (from pydantic<2,>=1.8.1->ydata-profiling->pandas_profiling) (4.6.3)\n",
            "Requirement already satisfied: urllib3<1.27,>=1.21.1 in /usr/local/lib/python3.10/dist-packages (from requests<3,>=2.24.0->ydata-profiling->pandas_profiling) (1.26.16)\n",
            "Requirement already satisfied: certifi>=2017.4.17 in /usr/local/lib/python3.10/dist-packages (from requests<3,>=2.24.0->ydata-profiling->pandas_profiling) (2023.5.7)\n",
            "Requirement already satisfied: charset-normalizer~=2.0.0 in /usr/local/lib/python3.10/dist-packages (from requests<3,>=2.24.0->ydata-profiling->pandas_profiling) (2.0.12)\n",
            "Requirement already satisfied: idna<4,>=2.5 in /usr/local/lib/python3.10/dist-packages (from requests<3,>=2.24.0->ydata-profiling->pandas_profiling) (3.4)\n",
            "Requirement already satisfied: patsy>=0.5.2 in /usr/local/lib/python3.10/dist-packages (from statsmodels<1,>=0.13.2->ydata-profiling->pandas_profiling) (0.5.3)\n",
            "Requirement already satisfied: six in /usr/local/lib/python3.10/dist-packages (from patsy>=0.5.2->statsmodels<1,>=0.13.2->ydata-profiling->pandas_profiling) (1.16.0)\n",
            "Building wheels for collected packages: htmlmin\n",
            "  Building wheel for htmlmin (setup.py) ... \u001b[?25l\u001b[?25hdone\n",
            "  Created wheel for htmlmin: filename=htmlmin-0.1.12-py3-none-any.whl size=27081 sha256=04f07a0e20462505404a22341b76802a1efe2f9d7ba2e93a7391fb28dd621cc4\n",
            "  Stored in directory: /root/.cache/pip/wheels/dd/91/29/a79cecb328d01739e64017b6fb9a1ab9d8cb1853098ec5966d\n",
            "Successfully built htmlmin\n",
            "Installing collected packages: htmlmin, typeguard, tangled-up-in-unicode, multimethod, dacite, imagehash, wordcloud, visions, phik, ydata-profiling, pandas_profiling\n",
            "  Attempting uninstall: wordcloud\n",
            "    Found existing installation: wordcloud 1.8.2.2\n",
            "    Uninstalling wordcloud-1.8.2.2:\n",
            "      Successfully uninstalled wordcloud-1.8.2.2\n",
            "Successfully installed dacite-1.8.1 htmlmin-0.1.12 imagehash-4.3.1 multimethod-1.9.1 pandas_profiling-3.6.6 phik-0.12.3 tangled-up-in-unicode-0.2.0 typeguard-2.13.3 visions-0.7.5 wordcloud-1.9.2 ydata-profiling-4.3.1\n",
            "Requirement already satisfied: xlrd in /usr/local/lib/python3.10/dist-packages (2.0.1)\n",
            "Collecting feature-engine\n",
            "  Downloading feature_engine-1.6.1-py2.py3-none-any.whl (326 kB)\n",
            "\u001b[2K     \u001b[90m━━━━━━━━━━━━━━━━━━━━━━━━━━━━━━━━━━━━━━━\u001b[0m \u001b[32m326.6/326.6 kB\u001b[0m \u001b[31m6.6 MB/s\u001b[0m eta \u001b[36m0:00:00\u001b[0m\n",
            "\u001b[?25hRequirement already satisfied: numpy>=1.18.2 in /usr/local/lib/python3.10/dist-packages (from feature-engine) (1.22.4)\n",
            "Requirement already satisfied: pandas>=1.0.3 in /usr/local/lib/python3.10/dist-packages (from feature-engine) (1.5.3)\n",
            "Requirement already satisfied: scikit-learn>=1.0.0 in /usr/local/lib/python3.10/dist-packages (from feature-engine) (1.2.2)\n",
            "Requirement already satisfied: scipy>=1.4.1 in /usr/local/lib/python3.10/dist-packages (from feature-engine) (1.10.1)\n",
            "Requirement already satisfied: statsmodels>=0.11.1 in /usr/local/lib/python3.10/dist-packages (from feature-engine) (0.13.5)\n",
            "Requirement already satisfied: python-dateutil>=2.8.1 in /usr/local/lib/python3.10/dist-packages (from pandas>=1.0.3->feature-engine) (2.8.2)\n",
            "Requirement already satisfied: pytz>=2020.1 in /usr/local/lib/python3.10/dist-packages (from pandas>=1.0.3->feature-engine) (2022.7.1)\n",
            "Requirement already satisfied: joblib>=1.1.1 in /usr/local/lib/python3.10/dist-packages (from scikit-learn>=1.0.0->feature-engine) (1.2.0)\n",
            "Requirement already satisfied: threadpoolctl>=2.0.0 in /usr/local/lib/python3.10/dist-packages (from scikit-learn>=1.0.0->feature-engine) (3.1.0)\n",
            "Requirement already satisfied: patsy>=0.5.2 in /usr/local/lib/python3.10/dist-packages (from statsmodels>=0.11.1->feature-engine) (0.5.3)\n",
            "Requirement already satisfied: packaging>=21.3 in /usr/local/lib/python3.10/dist-packages (from statsmodels>=0.11.1->feature-engine) (23.1)\n",
            "Requirement already satisfied: six in /usr/local/lib/python3.10/dist-packages (from patsy>=0.5.2->statsmodels>=0.11.1->feature-engine) (1.16.0)\n",
            "Installing collected packages: feature-engine\n",
            "Successfully installed feature-engine-1.6.1\n",
            "Collecting tune-sklearn\n",
            "  Downloading tune_sklearn-0.4.6-py3-none-any.whl (41 kB)\n",
            "\u001b[2K     \u001b[90m━━━━━━━━━━━━━━━━━━━━━━━━━━━━━━━━━━━━━━━━\u001b[0m \u001b[32m41.9/41.9 kB\u001b[0m \u001b[31m1.7 MB/s\u001b[0m eta \u001b[36m0:00:00\u001b[0m\n",
            "\u001b[?25hCollecting ray[tune]\n",
            "  Downloading ray-2.5.1-cp310-cp310-manylinux2014_x86_64.whl (56.2 MB)\n",
            "\u001b[2K     \u001b[90m━━━━━━━━━━━━━━━━━━━━━━━━━━━━━━━━━━━━━━━━\u001b[0m \u001b[32m56.2/56.2 MB\u001b[0m \u001b[31m11.3 MB/s\u001b[0m eta \u001b[36m0:00:00\u001b[0m\n",
            "\u001b[?25hRequirement already satisfied: numpy>=1.16 in /usr/local/lib/python3.10/dist-packages (from tune-sklearn) (1.22.4)\n",
            "Requirement already satisfied: scikit-learn in /usr/local/lib/python3.10/dist-packages (from tune-sklearn) (1.2.2)\n",
            "Requirement already satisfied: scipy in /usr/local/lib/python3.10/dist-packages (from tune-sklearn) (1.10.1)\n",
            "Requirement already satisfied: attrs in /usr/local/lib/python3.10/dist-packages (from ray[tune]) (23.1.0)\n",
            "Requirement already satisfied: click>=7.0 in /usr/local/lib/python3.10/dist-packages (from ray[tune]) (8.1.3)\n",
            "Requirement already satisfied: filelock in /usr/local/lib/python3.10/dist-packages (from ray[tune]) (3.12.2)\n",
            "Requirement already satisfied: jsonschema in /usr/local/lib/python3.10/dist-packages (from ray[tune]) (4.3.3)\n",
            "Requirement already satisfied: msgpack<2.0.0,>=1.0.0 in /usr/local/lib/python3.10/dist-packages (from ray[tune]) (1.0.5)\n",
            "Requirement already satisfied: packaging in /usr/local/lib/python3.10/dist-packages (from ray[tune]) (23.1)\n",
            "Requirement already satisfied: protobuf!=3.19.5,>=3.15.3 in /usr/local/lib/python3.10/dist-packages (from ray[tune]) (3.20.3)\n",
            "Requirement already satisfied: pyyaml in /usr/local/lib/python3.10/dist-packages (from ray[tune]) (6.0)\n",
            "Requirement already satisfied: aiosignal in /usr/local/lib/python3.10/dist-packages (from ray[tune]) (1.3.1)\n",
            "Requirement already satisfied: frozenlist in /usr/local/lib/python3.10/dist-packages (from ray[tune]) (1.3.3)\n",
            "Requirement already satisfied: requests in /usr/local/lib/python3.10/dist-packages (from ray[tune]) (2.27.1)\n",
            "Collecting grpcio<=1.51.3,>=1.42.0 (from ray[tune])\n",
            "  Downloading grpcio-1.51.3-cp310-cp310-manylinux_2_17_x86_64.manylinux2014_x86_64.whl (4.8 MB)\n",
            "\u001b[2K     \u001b[90m━━━━━━━━━━━━━━━━━━━━━━━━━━━━━━━━━━━━━━━━\u001b[0m \u001b[32m4.8/4.8 MB\u001b[0m \u001b[31m75.2 MB/s\u001b[0m eta \u001b[36m0:00:00\u001b[0m\n",
            "\u001b[?25hRequirement already satisfied: pandas in /usr/local/lib/python3.10/dist-packages (from ray[tune]) (1.5.3)\n",
            "Collecting tensorboardX>=1.9 (from ray[tune])\n",
            "  Downloading tensorboardX-2.6.1-py2.py3-none-any.whl (101 kB)\n",
            "\u001b[2K     \u001b[90m━━━━━━━━━━━━━━━━━━━━━━━━━━━━━━━━━━━━━━\u001b[0m \u001b[32m101.6/101.6 kB\u001b[0m \u001b[31m12.5 MB/s\u001b[0m eta \u001b[36m0:00:00\u001b[0m\n",
            "\u001b[?25hRequirement already satisfied: pyarrow>=6.0.1 in /usr/local/lib/python3.10/dist-packages (from ray[tune]) (9.0.0)\n",
            "Collecting protobuf!=3.19.5,>=3.15.3 (from ray[tune])\n",
            "  Downloading protobuf-4.23.3-cp37-abi3-manylinux2014_x86_64.whl (304 kB)\n",
            "\u001b[2K     \u001b[90m━━━━━━━━━━━━━━━━━━━━━━━━━━━━━━━━━━━━━━\u001b[0m \u001b[32m304.5/304.5 kB\u001b[0m \u001b[31m29.0 MB/s\u001b[0m eta \u001b[36m0:00:00\u001b[0m\n",
            "\u001b[?25hRequirement already satisfied: pyrsistent!=0.17.0,!=0.17.1,!=0.17.2,>=0.14.0 in /usr/local/lib/python3.10/dist-packages (from jsonschema->ray[tune]) (0.19.3)\n",
            "Requirement already satisfied: python-dateutil>=2.8.1 in /usr/local/lib/python3.10/dist-packages (from pandas->ray[tune]) (2.8.2)\n",
            "Requirement already satisfied: pytz>=2020.1 in /usr/local/lib/python3.10/dist-packages (from pandas->ray[tune]) (2022.7.1)\n",
            "Requirement already satisfied: urllib3<1.27,>=1.21.1 in /usr/local/lib/python3.10/dist-packages (from requests->ray[tune]) (1.26.16)\n",
            "Requirement already satisfied: certifi>=2017.4.17 in /usr/local/lib/python3.10/dist-packages (from requests->ray[tune]) (2023.5.7)\n",
            "Requirement already satisfied: charset-normalizer~=2.0.0 in /usr/local/lib/python3.10/dist-packages (from requests->ray[tune]) (2.0.12)\n",
            "Requirement already satisfied: idna<4,>=2.5 in /usr/local/lib/python3.10/dist-packages (from requests->ray[tune]) (3.4)\n",
            "Requirement already satisfied: joblib>=1.1.1 in /usr/local/lib/python3.10/dist-packages (from scikit-learn->tune-sklearn) (1.2.0)\n",
            "Requirement already satisfied: threadpoolctl>=2.0.0 in /usr/local/lib/python3.10/dist-packages (from scikit-learn->tune-sklearn) (3.1.0)\n",
            "Requirement already satisfied: six>=1.5 in /usr/local/lib/python3.10/dist-packages (from python-dateutil>=2.8.1->pandas->ray[tune]) (1.16.0)\n",
            "Installing collected packages: protobuf, grpcio, tensorboardX, ray, tune-sklearn\n",
            "  Attempting uninstall: protobuf\n",
            "    Found existing installation: protobuf 3.20.3\n",
            "    Uninstalling protobuf-3.20.3:\n",
            "      Successfully uninstalled protobuf-3.20.3\n",
            "  Attempting uninstall: grpcio\n",
            "    Found existing installation: grpcio 1.56.0\n",
            "    Uninstalling grpcio-1.56.0:\n",
            "      Successfully uninstalled grpcio-1.56.0\n",
            "Successfully installed grpcio-1.51.3 protobuf-4.23.3 ray-2.5.1 tensorboardX-2.6.1 tune-sklearn-0.4.6\n"
          ]
        }
      ],
      "source": [
        "!git clone https://github.com/kisejin/MachineLearningBasic.git\n",
        "!pip install -U pandas_profiling\n",
        "!pip install -U xlrd\n",
        "!pip install feature-engine\n",
        "!pip install tune-sklearn ray[tune]"
      ]
    },
    {
      "cell_type": "code",
      "execution_count": 2,
      "metadata": {
        "id": "0JISl7fVBR4a"
      },
      "outputs": [],
      "source": [
        "# Change directory\n",
        "import os\n",
        "os.chdir('MachineLearningBasic/Final Project')"
      ]
    },
    {
      "cell_type": "markdown",
      "metadata": {
        "id": "X-LvLNZvBBvs"
      },
      "source": [
        "## Load Dataset"
      ]
    },
    {
      "cell_type": "code",
      "execution_count": 3,
      "metadata": {
        "colab": {
          "base_uri": "https://localhost:8080/"
        },
        "id": "WdkYnAYvBBvs",
        "outputId": "8f310e6c-d902-44d8-f560-9889ec791d4d"
      },
      "outputs": [
        {
          "name": "stderr",
          "output_type": "stream",
          "text": [
            "<ipython-input-3-4d452425e32c>:8: DeprecationWarning: `import pandas_profiling` is going to be deprecated by April 1st. Please use `import ydata_profiling` instead.\n",
            "  from pandas_profiling import ProfileReport\n"
          ]
        }
      ],
      "source": [
        "# Library for data analysis\n",
        "import pandas as pd\n",
        "import numpy as np\n",
        "\n",
        "# Library for visualization\n",
        "import matplotlib.pyplot as plt\n",
        "import seaborn as sns\n",
        "from pandas_profiling import ProfileReport\n",
        "from sklearn.metrics import confusion_matrix,ConfusionMatrixDisplay\n",
        "\n",
        "# Library for data preprocessing\n",
        "from sklearn.model_selection import train_test_split\n",
        "from sklearn.impute import KNNImputer, SimpleImputer\n",
        "from sklearn.feature_extraction import FeatureHasher\n",
        "from sklearn.pipeline import Pipeline\n",
        "from sklearn.compose import ColumnTransformer\n",
        "from sklearn.preprocessing import LabelEncoder, OneHotEncoder,\\\n",
        "                                  MinMaxScaler, StandardScaler\n",
        "from feature_engine.outliers import Winsorizer\n",
        "\n",
        "# Library for model\n",
        "from sklearn.svm import SVC, NuSVC, LinearSVC\n",
        "from sklearn.model_selection import GridSearchCV, RandomizedSearchCV\n",
        "from sklearn.decomposition import PCA\n",
        "from sklearn.linear_model import SGDClassifier, LogisticRegression\n",
        "from sklearn.neural_network import MLPClassifier\n",
        "from sklearn.ensemble import RandomForestClassifier\n",
        "from sklearn.tree import DecisionTreeClassifier\n",
        "\n",
        "# Library for evaluate model\n",
        "from sklearn.metrics import classification_report,\\\n",
        "                            f1_score, \\\n",
        "                            accuracy_score,\\\n",
        "                            recall_score,\\\n",
        "                            precision_score, confusion_matrix\n",
        "\n",
        "# Library for optimize training\n",
        "from tune_sklearn import TuneGridSearchCV\n",
        "from joblib import parallel_backend\n",
        "from ray.util.joblib import register_ray"
      ]
    },
    {
      "cell_type": "code",
      "execution_count": 4,
      "metadata": {
        "id": "aieBsdvDBBvt"
      },
      "outputs": [],
      "source": [
        "pd.set_option(\"display.max_columns\",None)"
      ]
    },
    {
      "cell_type": "code",
      "execution_count": 5,
      "metadata": {
        "colab": {
          "base_uri": "https://localhost:8080/",
          "height": 565
        },
        "id": "8CoDF1djBBvt",
        "outputId": "bfa4ec52-1cf6-4e54-c32a-a4f4470b333d"
      },
      "outputs": [
        {
          "data": {
            "text/html": [
              "\n",
              "  <div id=\"df-3a360143-2ff3-4841-8ca2-acc2af2f6fde\">\n",
              "    <div class=\"colab-df-container\">\n",
              "      <div>\n",
              "<style scoped>\n",
              "    .dataframe tbody tr th:only-of-type {\n",
              "        vertical-align: middle;\n",
              "    }\n",
              "\n",
              "    .dataframe tbody tr th {\n",
              "        vertical-align: top;\n",
              "    }\n",
              "\n",
              "    .dataframe thead th {\n",
              "        text-align: right;\n",
              "    }\n",
              "</style>\n",
              "<table border=\"1\" class=\"dataframe\">\n",
              "  <thead>\n",
              "    <tr style=\"text-align: right;\">\n",
              "      <th></th>\n",
              "      <th>Loan_ID</th>\n",
              "      <th>Loan_Amount_Requested</th>\n",
              "      <th>Length_Employed</th>\n",
              "      <th>Home_Owner</th>\n",
              "      <th>Annual_Income</th>\n",
              "      <th>Income_Verified</th>\n",
              "      <th>Purpose_Of_Loan</th>\n",
              "      <th>Debt_To_Income</th>\n",
              "      <th>Inquiries_Last_6Mo</th>\n",
              "      <th>Months_Since_Deliquency</th>\n",
              "      <th>Number_Open_Accounts</th>\n",
              "      <th>Total_Accounts</th>\n",
              "      <th>Gender</th>\n",
              "      <th>Interest_Rate</th>\n",
              "    </tr>\n",
              "  </thead>\n",
              "  <tbody>\n",
              "    <tr>\n",
              "      <th>0</th>\n",
              "      <td>10000001</td>\n",
              "      <td>7,000</td>\n",
              "      <td>&lt; 1 year</td>\n",
              "      <td>Rent</td>\n",
              "      <td>68000.0</td>\n",
              "      <td>not verified</td>\n",
              "      <td>car</td>\n",
              "      <td>18.37</td>\n",
              "      <td>0</td>\n",
              "      <td>NaN</td>\n",
              "      <td>9</td>\n",
              "      <td>14</td>\n",
              "      <td>Female</td>\n",
              "      <td>1</td>\n",
              "    </tr>\n",
              "    <tr>\n",
              "      <th>1</th>\n",
              "      <td>10000002</td>\n",
              "      <td>30,000</td>\n",
              "      <td>4 years</td>\n",
              "      <td>Mortgage</td>\n",
              "      <td>NaN</td>\n",
              "      <td>VERIFIED - income</td>\n",
              "      <td>debt_consolidation</td>\n",
              "      <td>14.93</td>\n",
              "      <td>0</td>\n",
              "      <td>17.0</td>\n",
              "      <td>12</td>\n",
              "      <td>24</td>\n",
              "      <td>Female</td>\n",
              "      <td>3</td>\n",
              "    </tr>\n",
              "    <tr>\n",
              "      <th>2</th>\n",
              "      <td>10000003</td>\n",
              "      <td>24,725</td>\n",
              "      <td>7 years</td>\n",
              "      <td>Mortgage</td>\n",
              "      <td>75566.4</td>\n",
              "      <td>VERIFIED - income source</td>\n",
              "      <td>debt_consolidation</td>\n",
              "      <td>15.88</td>\n",
              "      <td>0</td>\n",
              "      <td>NaN</td>\n",
              "      <td>12</td>\n",
              "      <td>16</td>\n",
              "      <td>Male</td>\n",
              "      <td>3</td>\n",
              "    </tr>\n",
              "    <tr>\n",
              "      <th>3</th>\n",
              "      <td>10000004</td>\n",
              "      <td>16,000</td>\n",
              "      <td>&lt; 1 year</td>\n",
              "      <td>NaN</td>\n",
              "      <td>56160.0</td>\n",
              "      <td>VERIFIED - income source</td>\n",
              "      <td>debt_consolidation</td>\n",
              "      <td>14.34</td>\n",
              "      <td>3</td>\n",
              "      <td>NaN</td>\n",
              "      <td>16</td>\n",
              "      <td>22</td>\n",
              "      <td>Male</td>\n",
              "      <td>3</td>\n",
              "    </tr>\n",
              "    <tr>\n",
              "      <th>4</th>\n",
              "      <td>10000005</td>\n",
              "      <td>17,000</td>\n",
              "      <td>8 years</td>\n",
              "      <td>Own</td>\n",
              "      <td>96000.0</td>\n",
              "      <td>VERIFIED - income source</td>\n",
              "      <td>debt_consolidation</td>\n",
              "      <td>22.17</td>\n",
              "      <td>1</td>\n",
              "      <td>NaN</td>\n",
              "      <td>19</td>\n",
              "      <td>30</td>\n",
              "      <td>Female</td>\n",
              "      <td>1</td>\n",
              "    </tr>\n",
              "    <tr>\n",
              "      <th>5</th>\n",
              "      <td>10000006</td>\n",
              "      <td>4,500</td>\n",
              "      <td>2 years</td>\n",
              "      <td>Rent</td>\n",
              "      <td>30000.0</td>\n",
              "      <td>VERIFIED - income source</td>\n",
              "      <td>credit_card</td>\n",
              "      <td>10.88</td>\n",
              "      <td>1</td>\n",
              "      <td>NaN</td>\n",
              "      <td>12</td>\n",
              "      <td>15</td>\n",
              "      <td>Male</td>\n",
              "      <td>3</td>\n",
              "    </tr>\n",
              "    <tr>\n",
              "      <th>6</th>\n",
              "      <td>10000007</td>\n",
              "      <td>18,075</td>\n",
              "      <td>4 years</td>\n",
              "      <td>Rent</td>\n",
              "      <td>85000.0</td>\n",
              "      <td>VERIFIED - income</td>\n",
              "      <td>debt_consolidation</td>\n",
              "      <td>5.65</td>\n",
              "      <td>0</td>\n",
              "      <td>NaN</td>\n",
              "      <td>9</td>\n",
              "      <td>12</td>\n",
              "      <td>Male</td>\n",
              "      <td>3</td>\n",
              "    </tr>\n",
              "    <tr>\n",
              "      <th>7</th>\n",
              "      <td>10000008</td>\n",
              "      <td>15,000</td>\n",
              "      <td>&lt; 1 year</td>\n",
              "      <td>Rent</td>\n",
              "      <td>115000.0</td>\n",
              "      <td>VERIFIED - income</td>\n",
              "      <td>debt_consolidation</td>\n",
              "      <td>7.97</td>\n",
              "      <td>1</td>\n",
              "      <td>16.0</td>\n",
              "      <td>25</td>\n",
              "      <td>31</td>\n",
              "      <td>Female</td>\n",
              "      <td>2</td>\n",
              "    </tr>\n",
              "    <tr>\n",
              "      <th>8</th>\n",
              "      <td>10000009</td>\n",
              "      <td>6,300</td>\n",
              "      <td>10+ years</td>\n",
              "      <td>Rent</td>\n",
              "      <td>NaN</td>\n",
              "      <td>not verified</td>\n",
              "      <td>debt_consolidation</td>\n",
              "      <td>16.12</td>\n",
              "      <td>3</td>\n",
              "      <td>NaN</td>\n",
              "      <td>8</td>\n",
              "      <td>9</td>\n",
              "      <td>Female</td>\n",
              "      <td>3</td>\n",
              "    </tr>\n",
              "    <tr>\n",
              "      <th>9</th>\n",
              "      <td>10000010</td>\n",
              "      <td>30,000</td>\n",
              "      <td>10+ years</td>\n",
              "      <td>Own</td>\n",
              "      <td>163000.0</td>\n",
              "      <td>VERIFIED - income</td>\n",
              "      <td>debt_consolidation</td>\n",
              "      <td>11.13</td>\n",
              "      <td>0</td>\n",
              "      <td>NaN</td>\n",
              "      <td>24</td>\n",
              "      <td>43</td>\n",
              "      <td>Male</td>\n",
              "      <td>1</td>\n",
              "    </tr>\n",
              "  </tbody>\n",
              "</table>\n",
              "</div>\n",
              "      <button class=\"colab-df-convert\" onclick=\"convertToInteractive('df-3a360143-2ff3-4841-8ca2-acc2af2f6fde')\"\n",
              "              title=\"Convert this dataframe to an interactive table.\"\n",
              "              style=\"display:none;\">\n",
              "        \n",
              "  <svg xmlns=\"http://www.w3.org/2000/svg\" height=\"24px\"viewBox=\"0 0 24 24\"\n",
              "       width=\"24px\">\n",
              "    <path d=\"M0 0h24v24H0V0z\" fill=\"none\"/>\n",
              "    <path d=\"M18.56 5.44l.94 2.06.94-2.06 2.06-.94-2.06-.94-.94-2.06-.94 2.06-2.06.94zm-11 1L8.5 8.5l.94-2.06 2.06-.94-2.06-.94L8.5 2.5l-.94 2.06-2.06.94zm10 10l.94 2.06.94-2.06 2.06-.94-2.06-.94-.94-2.06-.94 2.06-2.06.94z\"/><path d=\"M17.41 7.96l-1.37-1.37c-.4-.4-.92-.59-1.43-.59-.52 0-1.04.2-1.43.59L10.3 9.45l-7.72 7.72c-.78.78-.78 2.05 0 2.83L4 21.41c.39.39.9.59 1.41.59.51 0 1.02-.2 1.41-.59l7.78-7.78 2.81-2.81c.8-.78.8-2.07 0-2.86zM5.41 20L4 18.59l7.72-7.72 1.47 1.35L5.41 20z\"/>\n",
              "  </svg>\n",
              "      </button>\n",
              "      \n",
              "  <style>\n",
              "    .colab-df-container {\n",
              "      display:flex;\n",
              "      flex-wrap:wrap;\n",
              "      gap: 12px;\n",
              "    }\n",
              "\n",
              "    .colab-df-convert {\n",
              "      background-color: #E8F0FE;\n",
              "      border: none;\n",
              "      border-radius: 50%;\n",
              "      cursor: pointer;\n",
              "      display: none;\n",
              "      fill: #1967D2;\n",
              "      height: 32px;\n",
              "      padding: 0 0 0 0;\n",
              "      width: 32px;\n",
              "    }\n",
              "\n",
              "    .colab-df-convert:hover {\n",
              "      background-color: #E2EBFA;\n",
              "      box-shadow: 0px 1px 2px rgba(60, 64, 67, 0.3), 0px 1px 3px 1px rgba(60, 64, 67, 0.15);\n",
              "      fill: #174EA6;\n",
              "    }\n",
              "\n",
              "    [theme=dark] .colab-df-convert {\n",
              "      background-color: #3B4455;\n",
              "      fill: #D2E3FC;\n",
              "    }\n",
              "\n",
              "    [theme=dark] .colab-df-convert:hover {\n",
              "      background-color: #434B5C;\n",
              "      box-shadow: 0px 1px 3px 1px rgba(0, 0, 0, 0.15);\n",
              "      filter: drop-shadow(0px 1px 2px rgba(0, 0, 0, 0.3));\n",
              "      fill: #FFFFFF;\n",
              "    }\n",
              "  </style>\n",
              "\n",
              "      <script>\n",
              "        const buttonEl =\n",
              "          document.querySelector('#df-3a360143-2ff3-4841-8ca2-acc2af2f6fde button.colab-df-convert');\n",
              "        buttonEl.style.display =\n",
              "          google.colab.kernel.accessAllowed ? 'block' : 'none';\n",
              "\n",
              "        async function convertToInteractive(key) {\n",
              "          const element = document.querySelector('#df-3a360143-2ff3-4841-8ca2-acc2af2f6fde');\n",
              "          const dataTable =\n",
              "            await google.colab.kernel.invokeFunction('convertToInteractive',\n",
              "                                                     [key], {});\n",
              "          if (!dataTable) return;\n",
              "\n",
              "          const docLinkHtml = 'Like what you see? Visit the ' +\n",
              "            '<a target=\"_blank\" href=https://colab.research.google.com/notebooks/data_table.ipynb>data table notebook</a>'\n",
              "            + ' to learn more about interactive tables.';\n",
              "          element.innerHTML = '';\n",
              "          dataTable['output_type'] = 'display_data';\n",
              "          await google.colab.output.renderOutput(dataTable, element);\n",
              "          const docLink = document.createElement('div');\n",
              "          docLink.innerHTML = docLinkHtml;\n",
              "          element.appendChild(docLink);\n",
              "        }\n",
              "      </script>\n",
              "    </div>\n",
              "  </div>\n",
              "  "
            ],
            "text/plain": [
              "    Loan_ID Loan_Amount_Requested Length_Employed Home_Owner  Annual_Income  \\\n",
              "0  10000001                 7,000        < 1 year       Rent        68000.0   \n",
              "1  10000002                30,000         4 years   Mortgage            NaN   \n",
              "2  10000003                24,725         7 years   Mortgage        75566.4   \n",
              "3  10000004                16,000        < 1 year        NaN        56160.0   \n",
              "4  10000005                17,000         8 years        Own        96000.0   \n",
              "5  10000006                 4,500         2 years       Rent        30000.0   \n",
              "6  10000007                18,075         4 years       Rent        85000.0   \n",
              "7  10000008                15,000        < 1 year       Rent       115000.0   \n",
              "8  10000009                 6,300       10+ years       Rent            NaN   \n",
              "9  10000010                30,000       10+ years        Own       163000.0   \n",
              "\n",
              "            Income_Verified     Purpose_Of_Loan  Debt_To_Income  \\\n",
              "0              not verified                 car           18.37   \n",
              "1         VERIFIED - income  debt_consolidation           14.93   \n",
              "2  VERIFIED - income source  debt_consolidation           15.88   \n",
              "3  VERIFIED - income source  debt_consolidation           14.34   \n",
              "4  VERIFIED - income source  debt_consolidation           22.17   \n",
              "5  VERIFIED - income source         credit_card           10.88   \n",
              "6         VERIFIED - income  debt_consolidation            5.65   \n",
              "7         VERIFIED - income  debt_consolidation            7.97   \n",
              "8              not verified  debt_consolidation           16.12   \n",
              "9         VERIFIED - income  debt_consolidation           11.13   \n",
              "\n",
              "   Inquiries_Last_6Mo  Months_Since_Deliquency  Number_Open_Accounts  \\\n",
              "0                   0                      NaN                     9   \n",
              "1                   0                     17.0                    12   \n",
              "2                   0                      NaN                    12   \n",
              "3                   3                      NaN                    16   \n",
              "4                   1                      NaN                    19   \n",
              "5                   1                      NaN                    12   \n",
              "6                   0                      NaN                     9   \n",
              "7                   1                     16.0                    25   \n",
              "8                   3                      NaN                     8   \n",
              "9                   0                      NaN                    24   \n",
              "\n",
              "   Total_Accounts  Gender  Interest_Rate  \n",
              "0              14  Female              1  \n",
              "1              24  Female              3  \n",
              "2              16    Male              3  \n",
              "3              22    Male              3  \n",
              "4              30  Female              1  \n",
              "5              15    Male              3  \n",
              "6              12    Male              3  \n",
              "7              31  Female              2  \n",
              "8               9  Female              3  \n",
              "9              43    Male              1  "
            ]
          },
          "execution_count": 5,
          "metadata": {},
          "output_type": "execute_result"
        }
      ],
      "source": [
        "df=pd.read_csv('Banking.csv')\n",
        "df.head(10)"
      ]
    },
    {
      "cell_type": "markdown",
      "metadata": {
        "id": "4v3HQVdwBBvu"
      },
      "source": [
        "## Data Analysis"
      ]
    },
    {
      "cell_type": "markdown",
      "metadata": {
        "id": "LHtqhgSLBBvu"
      },
      "source": [
        "### Kiểm tra datatype của các features cũng kiểm tra xem có giá trị null hay không\n",
        "Dữ liệu có giá trị null nên cần phải xử lý"
      ]
    },
    {
      "cell_type": "code",
      "execution_count": 6,
      "metadata": {
        "colab": {
          "base_uri": "https://localhost:8080/"
        },
        "id": "szpfXk_TBBvu",
        "outputId": "93698e10-2b2a-4410-acfc-26b99455a92d"
      },
      "outputs": [
        {
          "name": "stdout",
          "output_type": "stream",
          "text": [
            "<class 'pandas.core.frame.DataFrame'>\n",
            "RangeIndex: 164309 entries, 0 to 164308\n",
            "Data columns (total 14 columns):\n",
            " #   Column                   Non-Null Count   Dtype  \n",
            "---  ------                   --------------   -----  \n",
            " 0   Loan_ID                  164309 non-null  int64  \n",
            " 1   Loan_Amount_Requested    164309 non-null  object \n",
            " 2   Length_Employed          156938 non-null  object \n",
            " 3   Home_Owner               138960 non-null  object \n",
            " 4   Annual_Income            139207 non-null  float64\n",
            " 5   Income_Verified          164309 non-null  object \n",
            " 6   Purpose_Of_Loan          164309 non-null  object \n",
            " 7   Debt_To_Income           164309 non-null  float64\n",
            " 8   Inquiries_Last_6Mo       164309 non-null  int64  \n",
            " 9   Months_Since_Deliquency  75930 non-null   float64\n",
            " 10  Number_Open_Accounts     164309 non-null  int64  \n",
            " 11  Total_Accounts           164309 non-null  int64  \n",
            " 12  Gender                   164309 non-null  object \n",
            " 13  Interest_Rate            164309 non-null  int64  \n",
            "dtypes: float64(3), int64(5), object(6)\n",
            "memory usage: 17.6+ MB\n"
          ]
        }
      ],
      "source": [
        "df.info()"
      ]
    },
    {
      "cell_type": "markdown",
      "metadata": {
        "id": "MzjTbxGABBvu"
      },
      "source": [
        "### Kiểm tra giá trị null"
      ]
    },
    {
      "cell_type": "code",
      "execution_count": 7,
      "metadata": {
        "colab": {
          "base_uri": "https://localhost:8080/"
        },
        "id": "8Y1reA9NBBvv",
        "outputId": "84c90d42-6f1a-41a9-943f-a3cc10d03f67"
      },
      "outputs": [
        {
          "data": {
            "text/plain": [
              "Loan_ID                        0\n",
              "Loan_Amount_Requested          0\n",
              "Length_Employed             7371\n",
              "Home_Owner                 25349\n",
              "Annual_Income              25102\n",
              "Income_Verified                0\n",
              "Purpose_Of_Loan                0\n",
              "Debt_To_Income                 0\n",
              "Inquiries_Last_6Mo             0\n",
              "Months_Since_Deliquency    88379\n",
              "Number_Open_Accounts           0\n",
              "Total_Accounts                 0\n",
              "Gender                         0\n",
              "Interest_Rate                  0\n",
              "dtype: int64"
            ]
          },
          "execution_count": 7,
          "metadata": {},
          "output_type": "execute_result"
        }
      ],
      "source": [
        "df.isna().sum()"
      ]
    },
    {
      "cell_type": "markdown",
      "metadata": {
        "id": "USG6NoqFwYXS"
      },
      "source": [
        "Có thể thấy các cột ``Length_Employed``,``Honme_Owner``,``Annual_Income``,``Months_Since_Deliquency`` có xuất hiện giá trị ``NA``"
      ]
    },
    {
      "cell_type": "markdown",
      "metadata": {
        "id": "LfNft4vbBBvw"
      },
      "source": [
        "Một số cột có datatype không đúng định dạng, nên ở phần Preprocessing sẽ covert về đúng kiểu datatype của nó"
      ]
    },
    {
      "cell_type": "markdown",
      "metadata": {
        "id": "CPkVqYxnBBvw"
      },
      "source": [
        "## Preprocessing"
      ]
    },
    {
      "cell_type": "markdown",
      "metadata": {
        "id": "8F4q19DLBBvw"
      },
      "source": [
        "Drop những columns có thể thấy hiển nhiên là không mang lại giá trị cho việc dự đoán (như `Loan_ID `, `Gender`,..)"
      ]
    },
    {
      "cell_type": "code",
      "execution_count": 8,
      "metadata": {
        "colab": {
          "base_uri": "https://localhost:8080/",
          "height": 339
        },
        "id": "7zMfXrGmBBvw",
        "outputId": "e4523ca6-ba90-4634-da43-e7cb53ad6a5e"
      },
      "outputs": [
        {
          "data": {
            "text/html": [
              "\n",
              "  <div id=\"df-d1d742ad-669b-4347-819a-9750edd61c79\">\n",
              "    <div class=\"colab-df-container\">\n",
              "      <div>\n",
              "<style scoped>\n",
              "    .dataframe tbody tr th:only-of-type {\n",
              "        vertical-align: middle;\n",
              "    }\n",
              "\n",
              "    .dataframe tbody tr th {\n",
              "        vertical-align: top;\n",
              "    }\n",
              "\n",
              "    .dataframe thead th {\n",
              "        text-align: right;\n",
              "    }\n",
              "</style>\n",
              "<table border=\"1\" class=\"dataframe\">\n",
              "  <thead>\n",
              "    <tr style=\"text-align: right;\">\n",
              "      <th></th>\n",
              "      <th>Loan_Amount_Requested</th>\n",
              "      <th>Length_Employed</th>\n",
              "      <th>Home_Owner</th>\n",
              "      <th>Annual_Income</th>\n",
              "      <th>Income_Verified</th>\n",
              "      <th>Purpose_Of_Loan</th>\n",
              "      <th>Debt_To_Income</th>\n",
              "      <th>Inquiries_Last_6Mo</th>\n",
              "      <th>Months_Since_Deliquency</th>\n",
              "      <th>Number_Open_Accounts</th>\n",
              "      <th>Total_Accounts</th>\n",
              "      <th>Interest_Rate</th>\n",
              "    </tr>\n",
              "  </thead>\n",
              "  <tbody>\n",
              "    <tr>\n",
              "      <th>0</th>\n",
              "      <td>7,000</td>\n",
              "      <td>&lt; 1 year</td>\n",
              "      <td>Rent</td>\n",
              "      <td>68000.0</td>\n",
              "      <td>not verified</td>\n",
              "      <td>car</td>\n",
              "      <td>18.37</td>\n",
              "      <td>0</td>\n",
              "      <td>NaN</td>\n",
              "      <td>9</td>\n",
              "      <td>14</td>\n",
              "      <td>1</td>\n",
              "    </tr>\n",
              "    <tr>\n",
              "      <th>1</th>\n",
              "      <td>30,000</td>\n",
              "      <td>4 years</td>\n",
              "      <td>Mortgage</td>\n",
              "      <td>NaN</td>\n",
              "      <td>VERIFIED - income</td>\n",
              "      <td>debt_consolidation</td>\n",
              "      <td>14.93</td>\n",
              "      <td>0</td>\n",
              "      <td>17.0</td>\n",
              "      <td>12</td>\n",
              "      <td>24</td>\n",
              "      <td>3</td>\n",
              "    </tr>\n",
              "    <tr>\n",
              "      <th>2</th>\n",
              "      <td>24,725</td>\n",
              "      <td>7 years</td>\n",
              "      <td>Mortgage</td>\n",
              "      <td>75566.4</td>\n",
              "      <td>VERIFIED - income source</td>\n",
              "      <td>debt_consolidation</td>\n",
              "      <td>15.88</td>\n",
              "      <td>0</td>\n",
              "      <td>NaN</td>\n",
              "      <td>12</td>\n",
              "      <td>16</td>\n",
              "      <td>3</td>\n",
              "    </tr>\n",
              "    <tr>\n",
              "      <th>3</th>\n",
              "      <td>16,000</td>\n",
              "      <td>&lt; 1 year</td>\n",
              "      <td>NaN</td>\n",
              "      <td>56160.0</td>\n",
              "      <td>VERIFIED - income source</td>\n",
              "      <td>debt_consolidation</td>\n",
              "      <td>14.34</td>\n",
              "      <td>3</td>\n",
              "      <td>NaN</td>\n",
              "      <td>16</td>\n",
              "      <td>22</td>\n",
              "      <td>3</td>\n",
              "    </tr>\n",
              "    <tr>\n",
              "      <th>4</th>\n",
              "      <td>17,000</td>\n",
              "      <td>8 years</td>\n",
              "      <td>Own</td>\n",
              "      <td>96000.0</td>\n",
              "      <td>VERIFIED - income source</td>\n",
              "      <td>debt_consolidation</td>\n",
              "      <td>22.17</td>\n",
              "      <td>1</td>\n",
              "      <td>NaN</td>\n",
              "      <td>19</td>\n",
              "      <td>30</td>\n",
              "      <td>1</td>\n",
              "    </tr>\n",
              "  </tbody>\n",
              "</table>\n",
              "</div>\n",
              "      <button class=\"colab-df-convert\" onclick=\"convertToInteractive('df-d1d742ad-669b-4347-819a-9750edd61c79')\"\n",
              "              title=\"Convert this dataframe to an interactive table.\"\n",
              "              style=\"display:none;\">\n",
              "        \n",
              "  <svg xmlns=\"http://www.w3.org/2000/svg\" height=\"24px\"viewBox=\"0 0 24 24\"\n",
              "       width=\"24px\">\n",
              "    <path d=\"M0 0h24v24H0V0z\" fill=\"none\"/>\n",
              "    <path d=\"M18.56 5.44l.94 2.06.94-2.06 2.06-.94-2.06-.94-.94-2.06-.94 2.06-2.06.94zm-11 1L8.5 8.5l.94-2.06 2.06-.94-2.06-.94L8.5 2.5l-.94 2.06-2.06.94zm10 10l.94 2.06.94-2.06 2.06-.94-2.06-.94-.94-2.06-.94 2.06-2.06.94z\"/><path d=\"M17.41 7.96l-1.37-1.37c-.4-.4-.92-.59-1.43-.59-.52 0-1.04.2-1.43.59L10.3 9.45l-7.72 7.72c-.78.78-.78 2.05 0 2.83L4 21.41c.39.39.9.59 1.41.59.51 0 1.02-.2 1.41-.59l7.78-7.78 2.81-2.81c.8-.78.8-2.07 0-2.86zM5.41 20L4 18.59l7.72-7.72 1.47 1.35L5.41 20z\"/>\n",
              "  </svg>\n",
              "      </button>\n",
              "      \n",
              "  <style>\n",
              "    .colab-df-container {\n",
              "      display:flex;\n",
              "      flex-wrap:wrap;\n",
              "      gap: 12px;\n",
              "    }\n",
              "\n",
              "    .colab-df-convert {\n",
              "      background-color: #E8F0FE;\n",
              "      border: none;\n",
              "      border-radius: 50%;\n",
              "      cursor: pointer;\n",
              "      display: none;\n",
              "      fill: #1967D2;\n",
              "      height: 32px;\n",
              "      padding: 0 0 0 0;\n",
              "      width: 32px;\n",
              "    }\n",
              "\n",
              "    .colab-df-convert:hover {\n",
              "      background-color: #E2EBFA;\n",
              "      box-shadow: 0px 1px 2px rgba(60, 64, 67, 0.3), 0px 1px 3px 1px rgba(60, 64, 67, 0.15);\n",
              "      fill: #174EA6;\n",
              "    }\n",
              "\n",
              "    [theme=dark] .colab-df-convert {\n",
              "      background-color: #3B4455;\n",
              "      fill: #D2E3FC;\n",
              "    }\n",
              "\n",
              "    [theme=dark] .colab-df-convert:hover {\n",
              "      background-color: #434B5C;\n",
              "      box-shadow: 0px 1px 3px 1px rgba(0, 0, 0, 0.15);\n",
              "      filter: drop-shadow(0px 1px 2px rgba(0, 0, 0, 0.3));\n",
              "      fill: #FFFFFF;\n",
              "    }\n",
              "  </style>\n",
              "\n",
              "      <script>\n",
              "        const buttonEl =\n",
              "          document.querySelector('#df-d1d742ad-669b-4347-819a-9750edd61c79 button.colab-df-convert');\n",
              "        buttonEl.style.display =\n",
              "          google.colab.kernel.accessAllowed ? 'block' : 'none';\n",
              "\n",
              "        async function convertToInteractive(key) {\n",
              "          const element = document.querySelector('#df-d1d742ad-669b-4347-819a-9750edd61c79');\n",
              "          const dataTable =\n",
              "            await google.colab.kernel.invokeFunction('convertToInteractive',\n",
              "                                                     [key], {});\n",
              "          if (!dataTable) return;\n",
              "\n",
              "          const docLinkHtml = 'Like what you see? Visit the ' +\n",
              "            '<a target=\"_blank\" href=https://colab.research.google.com/notebooks/data_table.ipynb>data table notebook</a>'\n",
              "            + ' to learn more about interactive tables.';\n",
              "          element.innerHTML = '';\n",
              "          dataTable['output_type'] = 'display_data';\n",
              "          await google.colab.output.renderOutput(dataTable, element);\n",
              "          const docLink = document.createElement('div');\n",
              "          docLink.innerHTML = docLinkHtml;\n",
              "          element.appendChild(docLink);\n",
              "        }\n",
              "      </script>\n",
              "    </div>\n",
              "  </div>\n",
              "  "
            ],
            "text/plain": [
              "  Loan_Amount_Requested Length_Employed Home_Owner  Annual_Income  \\\n",
              "0                 7,000        < 1 year       Rent        68000.0   \n",
              "1                30,000         4 years   Mortgage            NaN   \n",
              "2                24,725         7 years   Mortgage        75566.4   \n",
              "3                16,000        < 1 year        NaN        56160.0   \n",
              "4                17,000         8 years        Own        96000.0   \n",
              "\n",
              "            Income_Verified     Purpose_Of_Loan  Debt_To_Income  \\\n",
              "0              not verified                 car           18.37   \n",
              "1         VERIFIED - income  debt_consolidation           14.93   \n",
              "2  VERIFIED - income source  debt_consolidation           15.88   \n",
              "3  VERIFIED - income source  debt_consolidation           14.34   \n",
              "4  VERIFIED - income source  debt_consolidation           22.17   \n",
              "\n",
              "   Inquiries_Last_6Mo  Months_Since_Deliquency  Number_Open_Accounts  \\\n",
              "0                   0                      NaN                     9   \n",
              "1                   0                     17.0                    12   \n",
              "2                   0                      NaN                    12   \n",
              "3                   3                      NaN                    16   \n",
              "4                   1                      NaN                    19   \n",
              "\n",
              "   Total_Accounts  Interest_Rate  \n",
              "0              14              1  \n",
              "1              24              3  \n",
              "2              16              3  \n",
              "3              22              3  \n",
              "4              30              1  "
            ]
          },
          "execution_count": 8,
          "metadata": {},
          "output_type": "execute_result"
        }
      ],
      "source": [
        "columns_to_drop=['Loan_ID','Gender']\n",
        "df.drop(columns=columns_to_drop,axis=1,inplace=True)\n",
        "df.head(5)"
      ]
    },
    {
      "cell_type": "markdown",
      "metadata": {
        "id": "FSeCHiazBBvy"
      },
      "source": [
        "Kiểm tra thử shape của df trước vào sau khi drop na (vì không cho tham số `inplace = True` nên df vẫn không thay đổi)"
      ]
    },
    {
      "cell_type": "code",
      "execution_count": 9,
      "metadata": {
        "colab": {
          "base_uri": "https://localhost:8080/"
        },
        "id": "xZ2-Zg2xBBvy",
        "outputId": "d1fe41d3-94c7-47fc-dc9c-9c670be6e27c"
      },
      "outputs": [
        {
          "name": "stdout",
          "output_type": "stream",
          "text": [
            "(164309, 12)\n",
            "(51966, 12)\n"
          ]
        }
      ],
      "source": [
        "print(df.shape)\n",
        "print(df.dropna().shape)"
      ]
    },
    {
      "cell_type": "markdown",
      "metadata": {
        "id": "1ZkK1CnNBBvy"
      },
      "source": [
        "Có thể thấy sau khi dropna thì số lượng samples giảm xuống rất nhiều, mất rất nhiều dữ liệu nên sẽ không dropna mà sẽ fillna (trình bày trong phần feature engineering)"
      ]
    },
    {
      "cell_type": "markdown",
      "metadata": {
        "id": "tD2d7yrfyLXj"
      },
      "source": [
        "Đếm giá trị của các cột có định dạng là `object` (thường là categorical feature)"
      ]
    },
    {
      "cell_type": "code",
      "execution_count": 10,
      "metadata": {
        "colab": {
          "base_uri": "https://localhost:8080/"
        },
        "id": "qIQ0-DRqyHm0",
        "outputId": "4acdacd4-1aeb-4587-b550-baf0114d00b8"
      },
      "outputs": [
        {
          "name": "stdout",
          "output_type": "stream",
          "text": [
            "10,000    11622\n",
            "12,000     9018\n",
            "15,000     8459\n",
            "20,000     7993\n",
            "35,000     5844\n",
            "          ...  \n",
            "29,650        1\n",
            "32,450        1\n",
            "26,425        1\n",
            "27,950        1\n",
            "29,825        1\n",
            "Name: Loan_Amount_Requested, Length: 1290, dtype: int64\n",
            "10+ years    52915\n",
            "2 years      14620\n",
            "3 years      12974\n",
            "< 1 year     12805\n",
            "5 years      10814\n",
            "1 year       10422\n",
            "4 years       9784\n",
            "7 years       9308\n",
            "6 years       9094\n",
            "8 years       7917\n",
            "9 years       6285\n",
            "Name: Length_Employed, dtype: int64\n",
            "Mortgage    70345\n",
            "Rent        56031\n",
            "Own         12525\n",
            "Other          49\n",
            "None           10\n",
            "Name: Home_Owner, dtype: int64\n",
            "VERIFIED - income           59421\n",
            "VERIFIED - income source    53015\n",
            "not verified                51873\n",
            "Name: Income_Verified, dtype: int64\n",
            "debt_consolidation    97101\n",
            "credit_card           36684\n",
            "home_improvement       9269\n",
            "other                  8346\n",
            "major_purchase         3435\n",
            "small_business         2392\n",
            "car                    1885\n",
            "medical                1541\n",
            "moving                  974\n",
            "vacation                837\n",
            "wedding                 828\n",
            "house                   773\n",
            "renewable_energy        123\n",
            "educational             121\n",
            "Name: Purpose_Of_Loan, dtype: int64\n"
          ]
        }
      ],
      "source": [
        "for cat in df.select_dtypes('object') :\n",
        "    print(df[cat].value_counts())"
      ]
    },
    {
      "cell_type": "markdown",
      "metadata": {
        "id": "ZWKWwpWyyZ7A"
      },
      "source": [
        "Nhận xét :\n",
        "\n",
        "* Cột `Loan_Amount_Requested`,`Length_Employed` phải chuyển về dạng `numeric`\n",
        "* Cột `Purpose_Of_Loan` có khá nhiều giá trị khác nhau nên phải cân nhắc khi encoding"
      ]
    },
    {
      "cell_type": "markdown",
      "metadata": {
        "id": "DEP-dtHTBBvy"
      },
      "source": [
        "Chuyển cột `Loan_Amount_Requested` về dạng `float64`"
      ]
    },
    {
      "cell_type": "code",
      "execution_count": 11,
      "metadata": {
        "colab": {
          "base_uri": "https://localhost:8080/"
        },
        "id": "BG4XyI9j0M2V",
        "outputId": "b0f597f5-c972-4fd4-f4db-d66bbbe51a7d"
      },
      "outputs": [
        {
          "data": {
            "text/plain": [
              "0          7000.0\n",
              "1         30000.0\n",
              "2         24725.0\n",
              "3         16000.0\n",
              "4         17000.0\n",
              "           ...   \n",
              "164304    20725.0\n",
              "164305     6000.0\n",
              "164306    20250.0\n",
              "164307    10000.0\n",
              "164308     9250.0\n",
              "Name: Loan_Amount_Requested, Length: 164309, dtype: float64"
            ]
          },
          "execution_count": 11,
          "metadata": {},
          "output_type": "execute_result"
        }
      ],
      "source": [
        "df['Loan_Amount_Requested']=df['Loan_Amount_Requested'].str.replace(',','').astype('float64')\n",
        "df['Loan_Amount_Requested']"
      ]
    },
    {
      "cell_type": "markdown",
      "metadata": {
        "id": "gOV16YH308Q4"
      },
      "source": [
        "Chuyển cột `Length_Employed` về dạng `Int64` (`Int64` khác `int64` ở việc có thể convert mà bỏ qua giá trị `NA`, còn lại không có gì khác biệt)\n",
        "Với các giá trị `< 1 year` em sẽ cho = `0`, còn các giá trị `10+ years` sẽ cho = `10`"
      ]
    },
    {
      "cell_type": "code",
      "execution_count": 12,
      "metadata": {
        "colab": {
          "base_uri": "https://localhost:8080/"
        },
        "id": "xUngnZBY1hTl",
        "outputId": "1039dd99-2fa4-4892-a7e6-e70ec214448e"
      },
      "outputs": [
        {
          "data": {
            "text/plain": [
              "0          0\n",
              "1          4\n",
              "2          7\n",
              "3          0\n",
              "4          8\n",
              "          ..\n",
              "164304    10\n",
              "164305     8\n",
              "164306    10\n",
              "164307     4\n",
              "164308    10\n",
              "Name: Length_Employed, Length: 164309, dtype: Int64"
            ]
          },
          "execution_count": 12,
          "metadata": {},
          "output_type": "execute_result"
        }
      ],
      "source": [
        "df.loc[df['Length_Employed']=='< 1 year',['Length_Employed']]='0 year'\n",
        "df['Length_Employed']=df['Length_Employed'].str.replace(r'[^0-9]','',regex=True).astype('Int64')\n",
        "df['Length_Employed']"
      ]
    },
    {
      "cell_type": "markdown",
      "metadata": {
        "id": "m0ZiROn1BBvz"
      },
      "source": [
        "Chia các features thành các biến định tính (categorical) hoặc định lượng (numeric), vì `Purpose_Of_Loan` có khá nhiều giá trị nên sẽ tách riêng để xử lý"
      ]
    },
    {
      "cell_type": "code",
      "execution_count": 13,
      "metadata": {
        "colab": {
          "base_uri": "https://localhost:8080/"
        },
        "id": "rhfVEFgnBBvz",
        "outputId": "eed96cb9-4633-4f44-943c-f38e0db27741"
      },
      "outputs": [
        {
          "name": "stdout",
          "output_type": "stream",
          "text": [
            "Index(['Home_Owner', 'Income_Verified'], dtype='object')\n",
            "Index(['Loan_Amount_Requested', 'Length_Employed', 'Annual_Income',\n",
            "       'Debt_To_Income', 'Inquiries_Last_6Mo', 'Months_Since_Deliquency',\n",
            "       'Number_Open_Accounts', 'Total_Accounts'],\n",
            "      dtype='object')\n",
            "Index(['Purpose_Of_Loan'], dtype='object')\n"
          ]
        }
      ],
      "source": [
        "# Categorical Feauture\n",
        "cat_features=df.iloc[:,:-1].select_dtypes(include='object').columns.drop(labels='Purpose_Of_Loan')\n",
        "# Numeric Feauture\n",
        "num_features=df.iloc[:,:-1].select_dtypes(exclude='object').columns\n",
        "# Purpose_Of_Loan\n",
        "hashing_feature= pd.Index(['Purpose_Of_Loan'])\n",
        "\n",
        "print(cat_features)\n",
        "print(num_features)\n",
        "print(hashing_feature)"
      ]
    },
    {
      "cell_type": "markdown",
      "metadata": {
        "id": "_zobU_AIBBvz"
      },
      "source": [
        "Kiểm tra lại giá trị của các biến định tính (categorical features)"
      ]
    },
    {
      "cell_type": "code",
      "execution_count": 14,
      "metadata": {
        "colab": {
          "base_uri": "https://localhost:8080/"
        },
        "id": "9RnyiZQmBBvz",
        "outputId": "23f9d8ef-568b-4953-b951-0dfaac54172e"
      },
      "outputs": [
        {
          "name": "stdout",
          "output_type": "stream",
          "text": [
            "Mortgage    70345\n",
            "Rent        56031\n",
            "NaN         25349\n",
            "Own         12525\n",
            "Other          49\n",
            "None           10\n",
            "Name: Home_Owner, dtype: int64\n",
            "\n",
            "VERIFIED - income           59421\n",
            "VERIFIED - income source    53015\n",
            "not verified                51873\n",
            "Name: Income_Verified, dtype: int64\n",
            "\n"
          ]
        }
      ],
      "source": [
        "for col in cat_features:\n",
        "    print(df[col].value_counts(dropna=False))\n",
        "    print()"
      ]
    },
    {
      "cell_type": "code",
      "execution_count": 15,
      "metadata": {
        "id": "i4wI-O7n7PmH"
      },
      "outputs": [],
      "source": [
        "np.set_printoptions(suppress=True)"
      ]
    },
    {
      "cell_type": "code",
      "execution_count": 16,
      "metadata": {
        "colab": {
          "base_uri": "https://localhost:8080/",
          "height": 364
        },
        "id": "HLEz9rE07IQs",
        "outputId": "8ead67c9-683d-416f-e54f-74bd506d16db"
      },
      "outputs": [
        {
          "data": {
            "text/html": [
              "\n",
              "  <div id=\"df-3d0ef871-e8d9-4acf-83ee-808e4cd0b2d4\">\n",
              "    <div class=\"colab-df-container\">\n",
              "      <div>\n",
              "<style scoped>\n",
              "    .dataframe tbody tr th:only-of-type {\n",
              "        vertical-align: middle;\n",
              "    }\n",
              "\n",
              "    .dataframe tbody tr th {\n",
              "        vertical-align: top;\n",
              "    }\n",
              "\n",
              "    .dataframe thead th {\n",
              "        text-align: right;\n",
              "    }\n",
              "</style>\n",
              "<table border=\"1\" class=\"dataframe\">\n",
              "  <thead>\n",
              "    <tr style=\"text-align: right;\">\n",
              "      <th></th>\n",
              "      <th>Loan_Amount_Requested</th>\n",
              "      <th>Length_Employed</th>\n",
              "      <th>Annual_Income</th>\n",
              "      <th>Debt_To_Income</th>\n",
              "      <th>Inquiries_Last_6Mo</th>\n",
              "      <th>Months_Since_Deliquency</th>\n",
              "      <th>Number_Open_Accounts</th>\n",
              "      <th>Total_Accounts</th>\n",
              "      <th>Interest_Rate</th>\n",
              "    </tr>\n",
              "  </thead>\n",
              "  <tbody>\n",
              "    <tr>\n",
              "      <th>count</th>\n",
              "      <td>164309.00000</td>\n",
              "      <td>156938.0</td>\n",
              "      <td>1.392070e+05</td>\n",
              "      <td>164309.000000</td>\n",
              "      <td>164309.000000</td>\n",
              "      <td>75930.000000</td>\n",
              "      <td>164309.000000</td>\n",
              "      <td>164309.000000</td>\n",
              "      <td>164309.000000</td>\n",
              "    </tr>\n",
              "    <tr>\n",
              "      <th>mean</th>\n",
              "      <td>14349.33692</td>\n",
              "      <td>5.993201</td>\n",
              "      <td>7.333116e+04</td>\n",
              "      <td>17.207189</td>\n",
              "      <td>0.781698</td>\n",
              "      <td>34.229356</td>\n",
              "      <td>11.193818</td>\n",
              "      <td>25.067665</td>\n",
              "      <td>2.158951</td>\n",
              "    </tr>\n",
              "    <tr>\n",
              "      <th>std</th>\n",
              "      <td>8281.86870</td>\n",
              "      <td>3.628592</td>\n",
              "      <td>6.037750e+04</td>\n",
              "      <td>7.845083</td>\n",
              "      <td>1.034747</td>\n",
              "      <td>21.761180</td>\n",
              "      <td>4.991813</td>\n",
              "      <td>11.583067</td>\n",
              "      <td>0.738364</td>\n",
              "    </tr>\n",
              "    <tr>\n",
              "      <th>min</th>\n",
              "      <td>500.00000</td>\n",
              "      <td>0.0</td>\n",
              "      <td>4.000000e+03</td>\n",
              "      <td>0.000000</td>\n",
              "      <td>0.000000</td>\n",
              "      <td>0.000000</td>\n",
              "      <td>0.000000</td>\n",
              "      <td>2.000000</td>\n",
              "      <td>1.000000</td>\n",
              "    </tr>\n",
              "    <tr>\n",
              "      <th>25%</th>\n",
              "      <td>8000.00000</td>\n",
              "      <td>3.0</td>\n",
              "      <td>4.500000e+04</td>\n",
              "      <td>11.370000</td>\n",
              "      <td>0.000000</td>\n",
              "      <td>16.000000</td>\n",
              "      <td>8.000000</td>\n",
              "      <td>17.000000</td>\n",
              "      <td>2.000000</td>\n",
              "    </tr>\n",
              "    <tr>\n",
              "      <th>50%</th>\n",
              "      <td>12075.00000</td>\n",
              "      <td>6.0</td>\n",
              "      <td>6.300000e+04</td>\n",
              "      <td>16.840000</td>\n",
              "      <td>0.000000</td>\n",
              "      <td>31.000000</td>\n",
              "      <td>10.000000</td>\n",
              "      <td>23.000000</td>\n",
              "      <td>2.000000</td>\n",
              "    </tr>\n",
              "    <tr>\n",
              "      <th>75%</th>\n",
              "      <td>20000.00000</td>\n",
              "      <td>10.0</td>\n",
              "      <td>8.869750e+04</td>\n",
              "      <td>22.780000</td>\n",
              "      <td>1.000000</td>\n",
              "      <td>50.000000</td>\n",
              "      <td>14.000000</td>\n",
              "      <td>32.000000</td>\n",
              "      <td>3.000000</td>\n",
              "    </tr>\n",
              "    <tr>\n",
              "      <th>max</th>\n",
              "      <td>35000.00000</td>\n",
              "      <td>10.0</td>\n",
              "      <td>7.500000e+06</td>\n",
              "      <td>39.990000</td>\n",
              "      <td>8.000000</td>\n",
              "      <td>180.000000</td>\n",
              "      <td>76.000000</td>\n",
              "      <td>156.000000</td>\n",
              "      <td>3.000000</td>\n",
              "    </tr>\n",
              "  </tbody>\n",
              "</table>\n",
              "</div>\n",
              "      <button class=\"colab-df-convert\" onclick=\"convertToInteractive('df-3d0ef871-e8d9-4acf-83ee-808e4cd0b2d4')\"\n",
              "              title=\"Convert this dataframe to an interactive table.\"\n",
              "              style=\"display:none;\">\n",
              "        \n",
              "  <svg xmlns=\"http://www.w3.org/2000/svg\" height=\"24px\"viewBox=\"0 0 24 24\"\n",
              "       width=\"24px\">\n",
              "    <path d=\"M0 0h24v24H0V0z\" fill=\"none\"/>\n",
              "    <path d=\"M18.56 5.44l.94 2.06.94-2.06 2.06-.94-2.06-.94-.94-2.06-.94 2.06-2.06.94zm-11 1L8.5 8.5l.94-2.06 2.06-.94-2.06-.94L8.5 2.5l-.94 2.06-2.06.94zm10 10l.94 2.06.94-2.06 2.06-.94-2.06-.94-.94-2.06-.94 2.06-2.06.94z\"/><path d=\"M17.41 7.96l-1.37-1.37c-.4-.4-.92-.59-1.43-.59-.52 0-1.04.2-1.43.59L10.3 9.45l-7.72 7.72c-.78.78-.78 2.05 0 2.83L4 21.41c.39.39.9.59 1.41.59.51 0 1.02-.2 1.41-.59l7.78-7.78 2.81-2.81c.8-.78.8-2.07 0-2.86zM5.41 20L4 18.59l7.72-7.72 1.47 1.35L5.41 20z\"/>\n",
              "  </svg>\n",
              "      </button>\n",
              "      \n",
              "  <style>\n",
              "    .colab-df-container {\n",
              "      display:flex;\n",
              "      flex-wrap:wrap;\n",
              "      gap: 12px;\n",
              "    }\n",
              "\n",
              "    .colab-df-convert {\n",
              "      background-color: #E8F0FE;\n",
              "      border: none;\n",
              "      border-radius: 50%;\n",
              "      cursor: pointer;\n",
              "      display: none;\n",
              "      fill: #1967D2;\n",
              "      height: 32px;\n",
              "      padding: 0 0 0 0;\n",
              "      width: 32px;\n",
              "    }\n",
              "\n",
              "    .colab-df-convert:hover {\n",
              "      background-color: #E2EBFA;\n",
              "      box-shadow: 0px 1px 2px rgba(60, 64, 67, 0.3), 0px 1px 3px 1px rgba(60, 64, 67, 0.15);\n",
              "      fill: #174EA6;\n",
              "    }\n",
              "\n",
              "    [theme=dark] .colab-df-convert {\n",
              "      background-color: #3B4455;\n",
              "      fill: #D2E3FC;\n",
              "    }\n",
              "\n",
              "    [theme=dark] .colab-df-convert:hover {\n",
              "      background-color: #434B5C;\n",
              "      box-shadow: 0px 1px 3px 1px rgba(0, 0, 0, 0.15);\n",
              "      filter: drop-shadow(0px 1px 2px rgba(0, 0, 0, 0.3));\n",
              "      fill: #FFFFFF;\n",
              "    }\n",
              "  </style>\n",
              "\n",
              "      <script>\n",
              "        const buttonEl =\n",
              "          document.querySelector('#df-3d0ef871-e8d9-4acf-83ee-808e4cd0b2d4 button.colab-df-convert');\n",
              "        buttonEl.style.display =\n",
              "          google.colab.kernel.accessAllowed ? 'block' : 'none';\n",
              "\n",
              "        async function convertToInteractive(key) {\n",
              "          const element = document.querySelector('#df-3d0ef871-e8d9-4acf-83ee-808e4cd0b2d4');\n",
              "          const dataTable =\n",
              "            await google.colab.kernel.invokeFunction('convertToInteractive',\n",
              "                                                     [key], {});\n",
              "          if (!dataTable) return;\n",
              "\n",
              "          const docLinkHtml = 'Like what you see? Visit the ' +\n",
              "            '<a target=\"_blank\" href=https://colab.research.google.com/notebooks/data_table.ipynb>data table notebook</a>'\n",
              "            + ' to learn more about interactive tables.';\n",
              "          element.innerHTML = '';\n",
              "          dataTable['output_type'] = 'display_data';\n",
              "          await google.colab.output.renderOutput(dataTable, element);\n",
              "          const docLink = document.createElement('div');\n",
              "          docLink.innerHTML = docLinkHtml;\n",
              "          element.appendChild(docLink);\n",
              "        }\n",
              "      </script>\n",
              "    </div>\n",
              "  </div>\n",
              "  "
            ],
            "text/plain": [
              "       Loan_Amount_Requested  Length_Employed  Annual_Income  Debt_To_Income  \\\n",
              "count           164309.00000         156938.0   1.392070e+05   164309.000000   \n",
              "mean             14349.33692         5.993201   7.333116e+04       17.207189   \n",
              "std               8281.86870         3.628592   6.037750e+04        7.845083   \n",
              "min                500.00000              0.0   4.000000e+03        0.000000   \n",
              "25%               8000.00000              3.0   4.500000e+04       11.370000   \n",
              "50%              12075.00000              6.0   6.300000e+04       16.840000   \n",
              "75%              20000.00000             10.0   8.869750e+04       22.780000   \n",
              "max              35000.00000             10.0   7.500000e+06       39.990000   \n",
              "\n",
              "       Inquiries_Last_6Mo  Months_Since_Deliquency  Number_Open_Accounts  \\\n",
              "count       164309.000000             75930.000000         164309.000000   \n",
              "mean             0.781698                34.229356             11.193818   \n",
              "std              1.034747                21.761180              4.991813   \n",
              "min              0.000000                 0.000000              0.000000   \n",
              "25%              0.000000                16.000000              8.000000   \n",
              "50%              0.000000                31.000000             10.000000   \n",
              "75%              1.000000                50.000000             14.000000   \n",
              "max              8.000000               180.000000             76.000000   \n",
              "\n",
              "       Total_Accounts  Interest_Rate  \n",
              "count   164309.000000  164309.000000  \n",
              "mean        25.067665       2.158951  \n",
              "std         11.583067       0.738364  \n",
              "min          2.000000       1.000000  \n",
              "25%         17.000000       2.000000  \n",
              "50%         23.000000       2.000000  \n",
              "75%         32.000000       3.000000  \n",
              "max        156.000000       3.000000  "
            ]
          },
          "execution_count": 16,
          "metadata": {},
          "output_type": "execute_result"
        }
      ],
      "source": [
        "df.describe()"
      ]
    },
    {
      "cell_type": "markdown",
      "metadata": {
        "id": "40kiFZD3BBvz"
      },
      "source": [
        "## Data visualization"
      ]
    },
    {
      "cell_type": "markdown",
      "metadata": {
        "id": "UUlGdkW5BBv0"
      },
      "source": [
        "Biểu đồ countplot cho biến mục tiêu"
      ]
    },
    {
      "cell_type": "code",
      "execution_count": 17,
      "metadata": {
        "colab": {
          "base_uri": "https://localhost:8080/",
          "height": 449
        },
        "id": "JZhV0QAcBBv0",
        "outputId": "7951fc11-db7c-4540-b367-a64341f17056"
      },
      "outputs": [
        {
          "data": {
            "image/png": "[encoded data removed]",
            "text/plain": [
              "<Figure size 640x480 with 1 Axes>"
            ]
          },
          "metadata": {},
          "output_type": "display_data"
        }
      ],
      "source": [
        "ax = sns.countplot(x=\"Interest_Rate\", data=df, palette=\"bwr\",\n",
        "                   linewidth=1.5, edgecolor='black')\n",
        "for label in ax.containers:\n",
        "    ax.bar_label(label)\n",
        "\n",
        "plt.show()\n"
      ]
    },
    {
      "cell_type": "markdown",
      "metadata": {
        "id": "BM_CJN_3BBv0"
      },
      "source": [
        "Có thể thấy theo mô tả thì `churn_risk_score` từ 1 đến 3 và phân bố khá cân bằng (không có sự mất cân bằng quá nghiêm trọng)"
      ]
    },
    {
      "cell_type": "markdown",
      "metadata": {
        "id": "94ockFnmBBv0"
      },
      "source": [
        "Biểu đồ histogram cho biến numeric"
      ]
    },
    {
      "cell_type": "code",
      "execution_count": 18,
      "metadata": {
        "colab": {
          "base_uri": "https://localhost:8080/",
          "height": 1000
        },
        "id": "Bj8LEGPSBBv1",
        "outputId": "1bdf0293-ed4e-41ad-b0ce-11b808be62e2"
      },
      "outputs": [
        {
          "data": {
            "text/plain": [
              "array([[<Axes: title={'center': 'Loan_Amount_Requested'}>,\n",
              "        <Axes: title={'center': 'Length_Employed'}>,\n",
              "        <Axes: title={'center': 'Annual_Income'}>],\n",
              "       [<Axes: title={'center': 'Debt_To_Income'}>,\n",
              "        <Axes: title={'center': 'Inquiries_Last_6Mo'}>,\n",
              "        <Axes: title={'center': 'Months_Since_Deliquency'}>],\n",
              "       [<Axes: title={'center': 'Number_Open_Accounts'}>,\n",
              "        <Axes: title={'center': 'Total_Accounts'}>, <Axes: >]],\n",
              "      dtype=object)"
            ]
          },
          "execution_count": 18,
          "metadata": {},
          "output_type": "execute_result"
        },
        {
          "data": {
            "image/png": "[encoded data removed]",
            "text/plain": [
              "<Figure size 1000x1000 with 9 Axes>"
            ]
          },
          "metadata": {},
          "output_type": "display_data"
        }
      ],
      "source": [
        "df.hist(column=num_features, figsize=(10, 10),\n",
        "        edgecolor='black', color='pink', linewidth=1.5)"
      ]
    },
    {
      "cell_type": "markdown",
      "metadata": {
        "id": "8vmhcN5zODEF"
      },
      "source": [
        "Biểu đồ boxplot"
      ]
    },
    {
      "cell_type": "code",
      "execution_count": 19,
      "metadata": {
        "colab": {
          "base_uri": "https://localhost:8080/",
          "height": 1000
        },
        "id": "9MCqCJauN4VU",
        "outputId": "27a7342a-fc4f-442b-d2e5-3904399c83ae"
      },
      "outputs": [
        {
          "data": {
            "image/png": "[encoded data removed]",
            "text/plain": [
              "<Figure size 1400x1600 with 8 Axes>"
            ]
          },
          "metadata": {},
          "output_type": "display_data"
        }
      ],
      "source": [
        "box_cols = num_features\n",
        "fig, axes=plt.subplots(len(box_cols), 1, figsize=(14, 2*len(box_cols)),sharex=False,sharey=False)\n",
        "\n",
        "for i, column in enumerate(box_cols):\n",
        "    sns.boxplot(x=column,data=df,palette='crest',ax=axes[i])\n",
        "plt.tight_layout(pad=2.0)"
      ]
    },
    {
      "cell_type": "markdown",
      "metadata": {
        "id": "U44v9lhyO_AA"
      },
      "source": [
        "Biểu đồ histogram"
      ]
    },
    {
      "cell_type": "markdown",
      "metadata": {
        "id": "dJjokco9BBv1"
      },
      "source": [
        "Biểu đồ countplot cho biến category"
      ]
    },
    {
      "cell_type": "code",
      "execution_count": 20,
      "metadata": {
        "colab": {
          "base_uri": "https://localhost:8080/",
          "height": 834
        },
        "id": "to_1RD8XBBv2",
        "outputId": "762f4d1a-7fb0-4fe7-e0ff-773362cd9297"
      },
      "outputs": [
        {
          "data": {
            "image/png": "[encoded data removed]",
            "text/plain": [
              "<Figure size 1800x600 with 1 Axes>"
            ]
          },
          "metadata": {},
          "output_type": "display_data"
        },
        {
          "data": {
            "image/png": "[encoded data removed]",
            "text/plain": [
              "<Figure size 1800x600 with 1 Axes>"
            ]
          },
          "metadata": {},
          "output_type": "display_data"
        }
      ],
      "source": [
        "for i, cat_feature in enumerate(cat_features):\n",
        "    plt.figure(figsize=(18,6))\n",
        "    ax=sns.countplot(x=cat_feature, data=df, palette=\"bwr\",\n",
        "                   hue='Interest_Rate', linewidth=1.5, edgecolor='black')\n",
        "    for label in ax.containers:\n",
        "        ax.bar_label(label)"
      ]
    },
    {
      "cell_type": "markdown",
      "metadata": {
        "id": "887MJ1TRBBv2"
      },
      "source": [
        "Hàm tạo feature và target"
      ]
    },
    {
      "cell_type": "code",
      "execution_count": 21,
      "metadata": {
        "id": "OViNAsjTBBv2"
      },
      "outputs": [],
      "source": [
        "def prepare_X_y(df):\n",
        "    \"\"\"\n",
        "    Feature engineering and create X and y\n",
        "    :param df: pandas dataframe\n",
        "    :return: (X, y) output feature matrix (dataframe), target (series)\n",
        "    \"\"\"\n",
        "    # Todo: Split data into X and y (using sklearn train_test_split). Return two dataframes\n",
        "    X =  df[df.columns[:-1]]\n",
        "    y =  df[df.columns[-1]]\n",
        "    return X, y\n",
        "\n",
        "X, y = prepare_X_y(df)\n"
      ]
    },
    {
      "cell_type": "markdown",
      "metadata": {
        "id": "0NHOCDOHBBv2"
      },
      "source": [
        "Chia train, test set"
      ]
    },
    {
      "cell_type": "code",
      "execution_count": 22,
      "metadata": {
        "id": "994Kt9StEHkk"
      },
      "outputs": [],
      "source": [
        "from sklearn.model_selection import train_test_split\n",
        "RANDOM_STATE = 20\n",
        "TRAIN_SIZE = 0.75\n",
        "trainX, testX ,trainY, testY = train_test_split(X, y, train_size=TRAIN_SIZE, random_state=RANDOM_STATE,stratify=y)"
      ]
    },
    {
      "cell_type": "markdown",
      "metadata": {
        "id": "Lmb5V9FYBBv3"
      },
      "source": [
        "Các phần như feature engineering hay sampling đều được xây dựng trong pipeline nên sẽ gộp chung các phần này vào phần xây dựng mô hình"
      ]
    },
    {
      "cell_type": "markdown",
      "metadata": {
        "id": "13mLd_W6BBv3"
      },
      "source": [
        "### 2. Feature engineering\n",
        "### 3. Sampling Your Data\n",
        "### 4. Build Model\n",
        "### 5. Perform model on training set and test set using gridsearch CV\n",
        "### 6. Measure performance of the model."
      ]
    },
    {
      "cell_type": "code",
      "execution_count": 23,
      "metadata": {
        "id": "aP__I-MDBBv4"
      },
      "outputs": [],
      "source": [
        "np.set_printoptions(suppress=True)"
      ]
    },
    {
      "cell_type": "markdown",
      "metadata": {
        "id": "AEoHg3Q_BBv4"
      },
      "source": [
        "## Xây dựng hàm build_model"
      ]
    },
    {
      "cell_type": "code",
      "execution_count": 24,
      "metadata": {
        "id": "seTmOqMHBBv4"
      },
      "outputs": [],
      "source": [
        "def build_model(X, y,pipeline, param_grid):\n",
        "\n",
        "    # Tạo GridSearchCV\n",
        "    grid_search = TuneGridSearchCV(\n",
        "        pipeline,  # Mô hình được sử dụng\n",
        "        param_grid,  # Các tham số cần tìm kiếm\n",
        "        cv=5,  # Số lượng fold trong cross-validation\n",
        "        scoring='f1_weighted',  # Độ đo sử dụng để đánh giá mô hình\n",
        "        n_jobs = -1, # Sử dụng tài nguyên chưa sử dụng để train model\n",
        "        return_train_score=True, # Trả về score trong quá trình training với tham số dược fine-tuning\n",
        "    )\n",
        "\n",
        "    register_ray()\n",
        "    with parallel_backend(\"ray\"):\n",
        "      grid_search.fit(X, y)\n",
        "    return grid_search\n"
      ]
    },
    {
      "cell_type": "markdown",
      "metadata": {
        "id": "W4G9ixF31Te3"
      },
      "source": [
        "## Xây dựng Pileline"
      ]
    },
    {
      "cell_type": "code",
      "execution_count": 25,
      "metadata": {
        "id": "e9iAbj3WoxZV"
      },
      "outputs": [],
      "source": [
        "numeric_transformer = Pipeline(\n",
        "    steps=[\n",
        "            (\"imputer\", SimpleImputer(strategy='mean')),\n",
        "            ('outlier', Winsorizer(capping_method = 'gaussian', tail = 'both',\n",
        "                                      fold = 3)),\n",
        "            (\"scaler\", StandardScaler())]\n",
        ")\n",
        "categorical_transformer = Pipeline(\n",
        "    steps=[\n",
        "        (\"imputer\",SimpleImputer(strategy='most_frequent')),\n",
        "        (\"encoder\", OneHotEncoder(handle_unknown=\"infrequent_if_exist\"))\n",
        "    ]\n",
        ")\n",
        "hashing_transformer =Pipeline(\n",
        "    steps=[\n",
        "        (\"inputer\",SimpleImputer(strategy='most_frequent')),\n",
        "        (\"encoder\",FeatureHasher(n_features=5,input_type='string'))\n",
        "    ]\n",
        ")\n",
        "# Tạo đối tượng preprocessor\n",
        "preprocessor = ColumnTransformer(\n",
        "    transformers=[\n",
        "        (\"num\",numeric_transformer,num_features),\n",
        "        (\"cat\", categorical_transformer, cat_features),\n",
        "        (\"hashing\",hashing_transformer,hashing_feature)\n",
        "    ]\n",
        ")\n"
      ]
    },
    {
      "cell_type": "markdown",
      "metadata": {
        "id": "hm6II_uI1QwI"
      },
      "source": [
        "## Mô hình Multilayer Perceptron (MLPClassifier)"
      ]
    },
    {
      "cell_type": "code",
      "execution_count": null,
      "metadata": {
        "id": "TntV6Do91DIn"
      },
      "outputs": [],
      "source": [
        "estimator= MLPClassifier()\n",
        "\n",
        "# Tạo Pipeline\n",
        "pipeline = Pipeline(steps=[\n",
        "    ('column_transformer', preprocessor),\n",
        "    ('estimator', estimator)\n",
        "])\n",
        "\n",
        "param_grid={\n",
        "    \"estimator__hidden_layer_sizes\":[50,100,200]\n",
        "}\n",
        "\n",
        "model = build_model(trainX, trainY,pipeline,param_grid)\n",
        "model.fit(trainX, trainY)\n",
        "\n",
        "# Compare on training dataset\n",
        "pred = model.predict(trainX)\n",
        "print('Train : \\n')\n",
        "print(classification_report(trainY,pred))\n",
        "pred = model.predict(testX)\n",
        "print('Test : \\n')\n",
        "print(classification_report(testY,pred))\n",
        "print(f'Best score: {f1_score(testY, pred, average = \"weighted\")}')"
      ]
    },
    {
      "cell_type": "code",
      "execution_count": null,
      "metadata": {
        "id": "6o11s9Lb-Vbv"
      },
      "outputs": [],
      "source": [
        "cmap = sns.diverging_palette(230, 20, as_cmap=True)\n",
        "ConfusionMatrixDisplay(confusion_matrix(testY,pred),display_labels=model.classes_).plot()"
      ]
    },
    {
      "cell_type": "markdown",
      "metadata": {},
      "source": [
        "### lưu model"
      ]
    },
    {
      "cell_type": "code",
      "execution_count": null,
      "metadata": {
        "id": "kKZvTOWgjv41"
      },
      "outputs": [],
      "source": [
        "from google.colab import drive\n",
        "from sklearn.neural_network import MLPClassifier\n",
        "#from sklearn.externals import joblib\n",
        "\n",
        "# Mount Google Drive\n",
        "drive.mount('/content/drive')\n",
        "\n",
        "# Save the model to Google Drive\n",
        "#joblib.dump(model, '/content/drive/MyDrive/mlp_model.pkl')\n",
        "\n",
        "import pickle\n",
        "\n",
        "with open(\"lp_model.pkl\", \"wb\") as f:\n",
        "    pickle.dump(model, f)"
      ]
    },
    {
      "cell_type": "markdown",
      "metadata": {
        "id": "uwc01A4ED_c3"
      },
      "source": [
        "## Mô hình Logistic Regression"
      ]
    },
    {
      "cell_type": "code",
      "execution_count": 27,
      "metadata": {
        "colab": {
          "base_uri": "https://localhost:8080/"
        },
        "id": "wbcjtSobEHNX",
        "outputId": "365996d8-94d0-4e9f-8916-ea366a3f0c63"
      },
      "outputs": [
        {
          "name": "stderr",
          "output_type": "stream",
          "text": [
            "2023-07-04 02:10:58,926\tINFO worker.py:1636 -- Started a local Ray instance.\n",
            "2023-07-04 02:11:02,636\tINFO tune.py:226 -- Initializing Ray automatically. For cluster usage or custom Ray initialization, call `ray.init(...)` before `tune.run(...)`.\n",
            "/usr/local/lib/python3.10/dist-packages/ray/tune/tune.py:258: UserWarning: Passing a `local_dir` is deprecated and will be removed in the future. Pass `storage_path` instead or set the`RAY_AIR_LOCAL_CACHE_DIR` environment variable instead.\n",
            "  warnings.warn(\n",
            "\u001b[2m\u001b[36m(_Trainable pid=1170)\u001b[0m /usr/local/lib/python3.10/dist-packages/sklearn/linear_model/_logistic.py:458: ConvergenceWarning: lbfgs failed to converge (status=1):\n",
            "\u001b[2m\u001b[36m(_Trainable pid=1170)\u001b[0m STOP: TOTAL NO. of ITERATIONS REACHED LIMIT.\n",
            "\u001b[2m\u001b[36m(_Trainable pid=1170)\u001b[0m \n",
            "\u001b[2m\u001b[36m(_Trainable pid=1170)\u001b[0m Increase the number of iterations (max_iter) or scale the data as shown in:\n",
            "\u001b[2m\u001b[36m(_Trainable pid=1170)\u001b[0m     https://scikit-learn.org/stable/modules/preprocessing.html\n",
            "\u001b[2m\u001b[36m(_Trainable pid=1170)\u001b[0m Please also refer to the documentation for alternative solver options:\n",
            "\u001b[2m\u001b[36m(_Trainable pid=1170)\u001b[0m     https://scikit-learn.org/stable/modules/linear_model.html#logistic-regression\n",
            "\u001b[2m\u001b[36m(_Trainable pid=1170)\u001b[0m   n_iter_i = _check_optimize_result(\n",
            "\u001b[2m\u001b[36m(_Trainable pid=1170)\u001b[0m /usr/local/lib/python3.10/dist-packages/sklearn/linear_model/_logistic.py:458: ConvergenceWarning: lbfgs failed to converge (status=1):\n",
            "\u001b[2m\u001b[36m(_Trainable pid=1170)\u001b[0m STOP: TOTAL NO. of ITERATIONS REACHED LIMIT.\n",
            "\u001b[2m\u001b[36m(_Trainable pid=1170)\u001b[0m \n",
            "\u001b[2m\u001b[36m(_Trainable pid=1170)\u001b[0m Increase the number of iterations (max_iter) or scale the data as shown in:\n",
            "\u001b[2m\u001b[36m(_Trainable pid=1170)\u001b[0m     https://scikit-learn.org/stable/modules/preprocessing.html\n",
            "\u001b[2m\u001b[36m(_Trainable pid=1170)\u001b[0m Please also refer to the documentation for alternative solver options:\n",
            "\u001b[2m\u001b[36m(_Trainable pid=1170)\u001b[0m     https://scikit-learn.org/stable/modules/linear_model.html#logistic-regression\n",
            "\u001b[2m\u001b[36m(_Trainable pid=1170)\u001b[0m   n_iter_i = _check_optimize_result(\n",
            "\u001b[2m\u001b[36m(_Trainable pid=1170)\u001b[0m /usr/local/lib/python3.10/dist-packages/sklearn/linear_model/_logistic.py:458: ConvergenceWarning: lbfgs failed to converge (status=1):\n",
            "\u001b[2m\u001b[36m(_Trainable pid=1170)\u001b[0m STOP: TOTAL NO. of ITERATIONS REACHED LIMIT.\n",
            "\u001b[2m\u001b[36m(_Trainable pid=1170)\u001b[0m \n",
            "\u001b[2m\u001b[36m(_Trainable pid=1170)\u001b[0m Increase the number of iterations (max_iter) or scale the data as shown in:\n",
            "\u001b[2m\u001b[36m(_Trainable pid=1170)\u001b[0m     https://scikit-learn.org/stable/modules/preprocessing.html\n",
            "\u001b[2m\u001b[36m(_Trainable pid=1170)\u001b[0m Please also refer to the documentation for alternative solver options:\n",
            "\u001b[2m\u001b[36m(_Trainable pid=1170)\u001b[0m     https://scikit-learn.org/stable/modules/linear_model.html#logistic-regression\n",
            "\u001b[2m\u001b[36m(_Trainable pid=1170)\u001b[0m   n_iter_i = _check_optimize_result(\n",
            "\u001b[2m\u001b[36m(_Trainable pid=1170)\u001b[0m /usr/local/lib/python3.10/dist-packages/sklearn/linear_model/_logistic.py:458: ConvergenceWarning: lbfgs failed to converge (status=1):\n",
            "\u001b[2m\u001b[36m(_Trainable pid=1170)\u001b[0m STOP: TOTAL NO. of ITERATIONS REACHED LIMIT.\n",
            "\u001b[2m\u001b[36m(_Trainable pid=1170)\u001b[0m \n",
            "\u001b[2m\u001b[36m(_Trainable pid=1170)\u001b[0m Increase the number of iterations (max_iter) or scale the data as shown in:\n",
            "\u001b[2m\u001b[36m(_Trainable pid=1170)\u001b[0m     https://scikit-learn.org/stable/modules/preprocessing.html\n",
            "\u001b[2m\u001b[36m(_Trainable pid=1170)\u001b[0m Please also refer to the documentation for alternative solver options:\n",
            "\u001b[2m\u001b[36m(_Trainable pid=1170)\u001b[0m     https://scikit-learn.org/stable/modules/linear_model.html#logistic-regression\n",
            "\u001b[2m\u001b[36m(_Trainable pid=1170)\u001b[0m   n_iter_i = _check_optimize_result(\n",
            "\u001b[2m\u001b[36m(_Trainable pid=1170)\u001b[0m /usr/local/lib/python3.10/dist-packages/sklearn/linear_model/_logistic.py:458: ConvergenceWarning: lbfgs failed to converge (status=1):\n",
            "\u001b[2m\u001b[36m(_Trainable pid=1170)\u001b[0m STOP: TOTAL NO. of ITERATIONS REACHED LIMIT.\n",
            "\u001b[2m\u001b[36m(_Trainable pid=1170)\u001b[0m \n",
            "\u001b[2m\u001b[36m(_Trainable pid=1170)\u001b[0m Increase the number of iterations (max_iter) or scale the data as shown in:\n",
            "\u001b[2m\u001b[36m(_Trainable pid=1170)\u001b[0m     https://scikit-learn.org/stable/modules/preprocessing.html\n",
            "\u001b[2m\u001b[36m(_Trainable pid=1170)\u001b[0m Please also refer to the documentation for alternative solver options:\n",
            "\u001b[2m\u001b[36m(_Trainable pid=1170)\u001b[0m     https://scikit-learn.org/stable/modules/linear_model.html#logistic-regression\n",
            "\u001b[2m\u001b[36m(_Trainable pid=1170)\u001b[0m   n_iter_i = _check_optimize_result(\n",
            "\u001b[2m\u001b[36m(_Trainable pid=1164)\u001b[0m /usr/local/lib/python3.10/dist-packages/sklearn/linear_model/_logistic.py:458: ConvergenceWarning: lbfgs failed to converge (status=1):\u001b[32m [repeated 3x across cluster] (Ray deduplicates logs by default. Set RAY_DEDUP_LOGS=0 to disable log deduplication, or see https://docs.ray.io/en/master/ray-observability/ray-logging.html#log-deduplication for more options.)\u001b[0m\n",
            "\u001b[2m\u001b[36m(_Trainable pid=1164)\u001b[0m STOP: TOTAL NO. of ITERATIONS REACHED LIMIT.\u001b[32m [repeated 3x across cluster]\u001b[0m\n",
            "\u001b[2m\u001b[36m(_Trainable pid=1164)\u001b[0m \u001b[32m [repeated 3x across cluster]\u001b[0m\n",
            "\u001b[2m\u001b[36m(_Trainable pid=1164)\u001b[0m Increase the number of iterations (max_iter) or scale the data as shown in:\u001b[32m [repeated 3x across cluster]\u001b[0m\n",
            "\u001b[2m\u001b[36m(_Trainable pid=1164)\u001b[0m     https://scikit-learn.org/stable/modules/preprocessing.html\u001b[32m [repeated 3x across cluster]\u001b[0m\n",
            "\u001b[2m\u001b[36m(_Trainable pid=1164)\u001b[0m Please also refer to the documentation for alternative solver options:\u001b[32m [repeated 3x across cluster]\u001b[0m\n",
            "\u001b[2m\u001b[36m(_Trainable pid=1164)\u001b[0m     https://scikit-learn.org/stable/modules/linear_model.html#logistic-regression\u001b[32m [repeated 3x across cluster]\u001b[0m\n",
            "\u001b[2m\u001b[36m(_Trainable pid=1164)\u001b[0m   n_iter_i = _check_optimize_result(\u001b[32m [repeated 3x across cluster]\u001b[0m\n",
            "\u001b[2m\u001b[36m(_Trainable pid=1164)\u001b[0m /usr/local/lib/python3.10/dist-packages/sklearn/linear_model/_logistic.py:458: ConvergenceWarning: lbfgs failed to converge (status=1):\u001b[32m [repeated 2x across cluster]\u001b[0m\n",
            "\u001b[2m\u001b[36m(_Trainable pid=1164)\u001b[0m STOP: TOTAL NO. of ITERATIONS REACHED LIMIT.\u001b[32m [repeated 2x across cluster]\u001b[0m\n",
            "\u001b[2m\u001b[36m(_Trainable pid=1164)\u001b[0m \u001b[32m [repeated 2x across cluster]\u001b[0m\n",
            "\u001b[2m\u001b[36m(_Trainable pid=1164)\u001b[0m Increase the number of iterations (max_iter) or scale the data as shown in:\u001b[32m [repeated 2x across cluster]\u001b[0m\n",
            "\u001b[2m\u001b[36m(_Trainable pid=1164)\u001b[0m     https://scikit-learn.org/stable/modules/preprocessing.html\u001b[32m [repeated 2x across cluster]\u001b[0m\n",
            "\u001b[2m\u001b[36m(_Trainable pid=1164)\u001b[0m Please also refer to the documentation for alternative solver options:\u001b[32m [repeated 2x across cluster]\u001b[0m\n",
            "\u001b[2m\u001b[36m(_Trainable pid=1164)\u001b[0m     https://scikit-learn.org/stable/modules/linear_model.html#logistic-regression\u001b[32m [repeated 2x across cluster]\u001b[0m\n",
            "\u001b[2m\u001b[36m(_Trainable pid=1164)\u001b[0m   n_iter_i = _check_optimize_result(\u001b[32m [repeated 2x across cluster]\u001b[0m\n",
            "\u001b[2m\u001b[36m(_Trainable pid=1164)\u001b[0m /usr/local/lib/python3.10/dist-packages/sklearn/linear_model/_logistic.py:458: ConvergenceWarning: lbfgs failed to converge (status=1):\u001b[32m [repeated 2x across cluster]\u001b[0m\n",
            "\u001b[2m\u001b[36m(_Trainable pid=1164)\u001b[0m STOP: TOTAL NO. of ITERATIONS REACHED LIMIT.\u001b[32m [repeated 2x across cluster]\u001b[0m\n",
            "\u001b[2m\u001b[36m(_Trainable pid=1164)\u001b[0m \u001b[32m [repeated 2x across cluster]\u001b[0m\n",
            "\u001b[2m\u001b[36m(_Trainable pid=1164)\u001b[0m Increase the number of iterations (max_iter) or scale the data as shown in:\u001b[32m [repeated 2x across cluster]\u001b[0m\n",
            "\u001b[2m\u001b[36m(_Trainable pid=1164)\u001b[0m     https://scikit-learn.org/stable/modules/preprocessing.html\u001b[32m [repeated 2x across cluster]\u001b[0m\n",
            "\u001b[2m\u001b[36m(_Trainable pid=1164)\u001b[0m Please also refer to the documentation for alternative solver options:\u001b[32m [repeated 2x across cluster]\u001b[0m\n",
            "\u001b[2m\u001b[36m(_Trainable pid=1164)\u001b[0m     https://scikit-learn.org/stable/modules/linear_model.html#logistic-regression\u001b[32m [repeated 2x across cluster]\u001b[0m\n",
            "\u001b[2m\u001b[36m(_Trainable pid=1164)\u001b[0m   n_iter_i = _check_optimize_result(\u001b[32m [repeated 2x across cluster]\u001b[0m\n",
            "\u001b[2m\u001b[36m(_Trainable pid=1170)\u001b[0m /usr/local/lib/python3.10/dist-packages/sklearn/linear_model/_logistic.py:458: ConvergenceWarning: lbfgs failed to converge (status=1):\u001b[32m [repeated 3x across cluster]\u001b[0m\n",
            "\u001b[2m\u001b[36m(_Trainable pid=1170)\u001b[0m STOP: TOTAL NO. of ITERATIONS REACHED LIMIT.\u001b[32m [repeated 3x across cluster]\u001b[0m\n",
            "\u001b[2m\u001b[36m(_Trainable pid=1170)\u001b[0m \u001b[32m [repeated 3x across cluster]\u001b[0m\n",
            "\u001b[2m\u001b[36m(_Trainable pid=1170)\u001b[0m Increase the number of iterations (max_iter) or scale the data as shown in:\u001b[32m [repeated 3x across cluster]\u001b[0m\n",
            "\u001b[2m\u001b[36m(_Trainable pid=1170)\u001b[0m     https://scikit-learn.org/stable/modules/preprocessing.html\u001b[32m [repeated 3x across cluster]\u001b[0m\n",
            "\u001b[2m\u001b[36m(_Trainable pid=1170)\u001b[0m Please also refer to the documentation for alternative solver options:\u001b[32m [repeated 3x across cluster]\u001b[0m\n",
            "\u001b[2m\u001b[36m(_Trainable pid=1170)\u001b[0m     https://scikit-learn.org/stable/modules/linear_model.html#logistic-regression\u001b[32m [repeated 3x across cluster]\u001b[0m\n",
            "\u001b[2m\u001b[36m(_Trainable pid=1170)\u001b[0m   n_iter_i = _check_optimize_result(\u001b[32m [repeated 3x across cluster]\u001b[0m\n",
            "2023-07-04 02:12:21,966\tWARNING pool.py:589 -- The 'context' argument is not supported using ray. Please refer to the documentation for how to control ray initialization.\n",
            "\u001b[2m\u001b[36m(PoolActor pid=1671)\u001b[0m   n_iter_i = _check_optimize_result(\n",
            "\u001b[2m\u001b[36m(PoolActor pid=1671)\u001b[0m   n_iter_i = _check_optimize_result(\n",
            "\u001b[2m\u001b[36m(PoolActor pid=1671)\u001b[0m   n_iter_i = _check_optimize_result(\n",
            "\u001b[2m\u001b[36m(PoolActor pid=1671)\u001b[0m   n_iter_i = _check_optimize_result(\n",
            "\u001b[2m\u001b[36m(PoolActor pid=1671)\u001b[0m   n_iter_i = _check_optimize_result(\n",
            "\u001b[2m\u001b[36m(PoolActor pid=1671)\u001b[0m   n_iter_i = _check_optimize_result(\n",
            "\u001b[2m\u001b[36m(PoolActor pid=1671)\u001b[0m   n_iter_i = _check_optimize_result(\n",
            "\u001b[2m\u001b[36m(PoolActor pid=1671)\u001b[0m   n_iter_i = _check_optimize_result(\n"
          ]
        },
        {
          "name": "stdout",
          "output_type": "stream",
          "text": [
            "Train : \n",
            "\n",
            "              precision    recall  f1-score   support\n",
            "\n",
            "           1       0.51      0.14      0.22     25354\n",
            "           2       0.48      0.67      0.56     52935\n",
            "           3       0.56      0.53      0.55     44942\n",
            "\n",
            "    accuracy                           0.51    123231\n",
            "   macro avg       0.52      0.45      0.44    123231\n",
            "weighted avg       0.52      0.51      0.49    123231\n",
            "\n",
            "Test : \n",
            "\n",
            "              precision    recall  f1-score   support\n",
            "\n",
            "           1       0.50      0.14      0.22      8452\n",
            "           2       0.49      0.68      0.57     17645\n",
            "           3       0.57      0.53      0.55     14981\n",
            "\n",
            "    accuracy                           0.51     41078\n",
            "   macro avg       0.52      0.45      0.44     41078\n",
            "weighted avg       0.52      0.51      0.49     41078\n",
            "\n",
            "Best parameter : {'estimator__C': 10}\n",
            "Best score: 0.4882455258551855\n"
          ]
        }
      ],
      "source": [
        "estimator = LogisticRegression()\n",
        "# Tạo Pipeline\n",
        "pipeline = Pipeline(steps=[\n",
        "    ('column_transformer', preprocessor),\n",
        "    ('estimator', estimator)\n",
        "])\n",
        "\n",
        "param_grid={\n",
        "    \"estimator__C\":[0.01,0.1,1,10]\n",
        "}\n",
        "\n",
        "model1 = build_model(trainX, trainY,pipeline,param_grid)\n",
        "# Compare on training dataset\n",
        "pred = model1.predict(trainX)\n",
        "print('Train : \\n')\n",
        "print(classification_report(trainY,pred))\n",
        "pred = model1.predict(testX)\n",
        "print('Test : \\n')\n",
        "print(classification_report(testY,pred))\n",
        "print(f'Best parameter : {model1.best_params_}')\n",
        "print(f'Best score: {f1_score(testY, pred, average = \"weighted\")}')"
      ]
    },
    {
      "cell_type": "markdown",
      "metadata": {
        "id": "SowZHT1GL1Qx"
      },
      "source": [
        "Train :\n",
        "\n",
        "              precision    recall  f1-score   support\n",
        "\n",
        "           1       0.51      0.14      0.22     25354\n",
        "           2       0.48      0.67      0.56     52935\n",
        "           3       0.56      0.53      0.55     44942\n",
        "\n",
        "    accuracy                           0.51    123231\n",
        "   macro avg       0.52      0.45      0.44    123231\n",
        "   \n",
        "weighted avg       0.52      0.51      0.49    123231\n",
        "\n",
        "Test :\n",
        "\n",
        "              precision    recall  f1-score   support\n",
        "\n",
        "           1       0.50      0.14      0.22      8452\n",
        "           2       0.49      0.68      0.57     17645\n",
        "           3       0.57      0.53      0.55     14981\n",
        "\n",
        "    accuracy                           0.51     41078\n",
        "   macro avg       0.52      0.45      0.44     41078\n",
        "\n",
        "weighted avg       0.52      0.51      0.49     41078\n",
        "\n",
        "Best parameter : {'estimator__C': 10}\n",
        "Best score: 0.4882455258551855"
      ]
    },
    {
      "cell_type": "code",
      "execution_count": 28,
      "metadata": {
        "colab": {
          "base_uri": "https://localhost:8080/",
          "height": 466
        },
        "id": "VA0IpJKQIw-8",
        "outputId": "d6a10d45-a3ca-482e-bf25-32254c483ece"
      },
      "outputs": [
        {
          "data": {
            "text/plain": [
              "<sklearn.metrics._plot.confusion_matrix.ConfusionMatrixDisplay at 0x7f7f3f961870>"
            ]
          },
          "execution_count": 28,
          "metadata": {},
          "output_type": "execute_result"
        },
        {
          "data": {
            "image/png": "[encoded data removed]",
            "text/plain": [
              "<Figure size 640x480 with 2 Axes>"
            ]
          },
          "metadata": {},
          "output_type": "display_data"
        }
      ],
      "source": [
        "cmap = sns.diverging_palette(230, 20, as_cmap=True)\n",
        "ConfusionMatrixDisplay(confusion_matrix(testY,pred),display_labels=model1.classes_).plot()"
      ]
    },
    {
      "cell_type": "markdown",
      "metadata": {
        "id": "XF4TNmeLBBv4"
      },
      "source": [
        "## Mô hình Random Forest"
      ]
    },
    {
      "cell_type": "code",
      "execution_count": 29,
      "metadata": {
        "colab": {
          "base_uri": "https://localhost:8080/"
        },
        "id": "II0aIkFJBBv5",
        "outputId": "a507820e-2e1e-4e9c-9ffd-15c58a3a5c34"
      },
      "outputs": [
        {
          "name": "stderr",
          "output_type": "stream",
          "text": [
            "/usr/local/lib/python3.10/dist-packages/ray/tune/tune.py:258: UserWarning: Passing a `local_dir` is deprecated and will be removed in the future. Pass `storage_path` instead or set the`RAY_AIR_LOCAL_CACHE_DIR` environment variable instead.\n",
            "  warnings.warn(\n"
          ]
        },
        {
          "name": "stdout",
          "output_type": "stream",
          "text": [
            "Train : \n",
            "\n",
            "              precision    recall  f1-score   support\n",
            "\n",
            "           1       1.00      1.00      1.00     25354\n",
            "           2       1.00      1.00      1.00     52935\n",
            "           3       1.00      1.00      1.00     44942\n",
            "\n",
            "    accuracy                           1.00    123231\n",
            "   macro avg       1.00      1.00      1.00    123231\n",
            "weighted avg       1.00      1.00      1.00    123231\n",
            "\n",
            "Test : \n",
            "\n",
            "              precision    recall  f1-score   support\n",
            "\n",
            "           1       0.47      0.25      0.32      8452\n",
            "           2       0.49      0.60      0.54     17645\n",
            "           3       0.55      0.55      0.55     14981\n",
            "\n",
            "    accuracy                           0.51     41078\n",
            "   macro avg       0.50      0.47      0.47     41078\n",
            "weighted avg       0.51      0.51      0.50     41078\n",
            "\n",
            "Best parameter : {'estimator__n_estimators': 200}\n",
            "Best score: 0.4989967029035124\n"
          ]
        }
      ],
      "source": [
        "estimator= RandomForestClassifier()\n",
        "# Tạo Pipeline\n",
        "pipeline = Pipeline(steps=[\n",
        "    ('column_transformer', preprocessor),\n",
        "    ('estimator', estimator)\n",
        "])\n",
        "\n",
        "param_grid={\n",
        "    \"estimator__n_estimators\":[50,100,200]\n",
        "}\n",
        "\n",
        "model2 = build_model(trainX, trainY,pipeline,param_grid)\n",
        "# Compare on training dataset\n",
        "pred = model2.predict(trainX)\n",
        "print('Train : \\n')\n",
        "print(classification_report(trainY,pred))\n",
        "pred = model2.predict(testX)\n",
        "print('Test : \\n')\n",
        "print(classification_report(testY,pred))\n",
        "print(f'Best parameter : {model2.best_params_}')\n",
        "print(f'Best score: {f1_score(testY, pred, average = \"weighted\")}')"
      ]
    },
    {
      "cell_type": "markdown",
      "metadata": {
        "id": "BGZJWDNDLsyM"
      },
      "source": [
        "Train :\n",
        "\n",
        "              precision    recall  f1-score   support\n",
        "\n",
        "           1       1.00      1.00      1.00     25354\n",
        "           2       1.00      1.00      1.00     52935\n",
        "           3       1.00      1.00      1.00     44942\n",
        "\n",
        "    accuracy                           1.00    123231\n",
        "   macro avg       1.00      1.00      1.00    123231\n",
        "   \n",
        "weighted avg       1.00      1.00      1.00    123231\n",
        "\n",
        "Test :\n",
        "\n",
        "              precision    recall  f1-score   support\n",
        "\n",
        "           1       0.47      0.25      0.32      8452\n",
        "           2       0.49      0.60      0.54     17645\n",
        "           3       0.55      0.55      0.55     14981\n",
        "\n",
        "    accuracy                           0.51     41078\n",
        "   macro avg       0.50      0.47      0.47     41078\n",
        "\n",
        "weighted avg       0.51      0.51      0.50     41078\n",
        "\n",
        "Best parameter : {'estimator__n_estimators': 200}\n",
        "Best score: 0.4989967029035124"
      ]
    },
    {
      "cell_type": "code",
      "execution_count": 30,
      "metadata": {
        "colab": {
          "base_uri": "https://localhost:8080/",
          "height": 466
        },
        "id": "Y8fLz6n5BBv5",
        "outputId": "213dcd18-8c4c-463f-e6a7-3dcf440adf63"
      },
      "outputs": [
        {
          "data": {
            "text/plain": [
              "<sklearn.metrics._plot.confusion_matrix.ConfusionMatrixDisplay at 0x7f7e34930ca0>"
            ]
          },
          "execution_count": 30,
          "metadata": {},
          "output_type": "execute_result"
        },
        {
          "data": {
            "image/png": "[encoded data removed]",
            "text/plain": [
              "<Figure size 640x480 with 2 Axes>"
            ]
          },
          "metadata": {},
          "output_type": "display_data"
        }
      ],
      "source": [
        "cmap = sns.diverging_palette(230, 20, as_cmap=True)\n",
        "ConfusionMatrixDisplay(confusion_matrix(testY,pred),display_labels=model2.classes_).plot()"
      ]
    },
    {
      "cell_type": "markdown",
      "metadata": {
        "id": "d6p7_3nsJVFW"
      },
      "source": [
        "## Mô hình SVC với rbf kernel"
      ]
    },
    {
      "cell_type": "code",
      "execution_count": null,
      "metadata": {
        "id": "VebEANfxJPQZ"
      },
      "outputs": [],
      "source": [
        "estimator=SVC(tol=1e-2, class_weight = 'balanced')\n",
        "\n",
        "# Tạo Pipeline\n",
        "pipeline = Pipeline(steps=[\n",
        "    ('column_transformer', preprocessor),\n",
        "    ('estimator', estimator)\n",
        "])\n",
        "\n",
        "param_grid={\n",
        "    \"estimator__C\":[0.01,0.1,1,10,100],\n",
        "}\n",
        "\n",
        "model3 = build_model(trainX, trainY,pipeline,param_grid)\n",
        "# Compare on training dataset\n",
        "pred = model3.predict(trainX)\n",
        "print('Train : \\n')\n",
        "print(classification_report(trainY,pred))\n",
        "pred = model3.predict(testX)\n",
        "print('Test : \\n')\n",
        "print(classification_report(testY,pred))\n",
        "print(f'Best parameter : {model3.best_params_}')\n",
        "print(f\"Best score: {f1_score(testY, pred, average = 'weighted')}\")"
      ]
    },
    {
      "cell_type": "code",
      "execution_count": null,
      "metadata": {
        "id": "kw-7sancmtgm"
      },
      "outputs": [],
      "source": [
        "cmap = sns.diverging_palette(230, 20, as_cmap=True)\n",
        "ConfusionMatrixDisplay(confusion_matrix(testY,pred),display_labels=model3.classes_).plot()"
      ]
    },
    {
      "cell_type": "markdown",
      "metadata": {
        "id": "RG46-LU5SZdb"
      },
      "source": [
        "## Mô hình Decision Tree"
      ]
    },
    {
      "cell_type": "code",
      "execution_count": 31,
      "metadata": {
        "colab": {
          "base_uri": "https://localhost:8080/"
        },
        "id": "ZQyZIHBhSY9Q",
        "outputId": "af462d19-55c3-43c6-8fa6-2c7703004a80"
      },
      "outputs": [
        {
          "name": "stderr",
          "output_type": "stream",
          "text": [
            "/usr/local/lib/python3.10/dist-packages/ray/tune/tune.py:258: UserWarning: Passing a `local_dir` is deprecated and will be removed in the future. Pass `storage_path` instead or set the`RAY_AIR_LOCAL_CACHE_DIR` environment variable instead.\n",
            "  warnings.warn(\n"
          ]
        },
        {
          "name": "stdout",
          "output_type": "stream",
          "text": [
            "Train:\n",
            "\n",
            "              precision    recall  f1-score   support\n",
            "\n",
            "           1       0.40      0.62      0.48     25354\n",
            "           2       0.56      0.30      0.39     52935\n",
            "           3       0.54      0.67      0.60     44942\n",
            "\n",
            "    accuracy                           0.50    123231\n",
            "   macro avg       0.50      0.53      0.49    123231\n",
            "weighted avg       0.52      0.50      0.49    123231\n",
            "\n",
            "Test:\n",
            "\n",
            "              precision    recall  f1-score   support\n",
            "\n",
            "           1       0.36      0.55      0.43      8452\n",
            "           2       0.51      0.27      0.36     17645\n",
            "           3       0.52      0.64      0.57     14981\n",
            "\n",
            "    accuracy                           0.46     41078\n",
            "   macro avg       0.46      0.49      0.45     41078\n",
            "weighted avg       0.48      0.46      0.45     41078\n",
            "\n",
            "Best parameters: {'estimator__max_depth': 10, 'estimator__min_samples_split': 5}\n",
            "Best score: 0.45049394305053453\n"
          ]
        }
      ],
      "source": [
        "from sklearn.tree import DecisionTreeClassifier\n",
        "\n",
        "# Estimator\n",
        "estimator = DecisionTreeClassifier(class_weight='balanced')\n",
        "\n",
        "# Create Pipeline\n",
        "pipeline = Pipeline(steps=[\n",
        "    ('column_transformer', preprocessor),\n",
        "    ('estimator', estimator)\n",
        "])\n",
        "\n",
        "# Parameter grid\n",
        "param_grid = {\n",
        "    \"estimator__max_depth\": [None, 10, 20, 30],\n",
        "    \"estimator__min_samples_split\": [2, 5, 10],\n",
        "}\n",
        "\n",
        "# Build the model\n",
        "model4 = build_model(trainX, trainY, pipeline, param_grid)\n",
        "\n",
        "# Compare on training dataset\n",
        "pred = model4.predict(trainX)\n",
        "print('Train:\\n')\n",
        "print(classification_report(trainY, pred))\n",
        "\n",
        "# Compare on testing dataset\n",
        "pred = model4.predict(testX)\n",
        "print('Test:\\n')\n",
        "print(classification_report(testY, pred))\n",
        "\n",
        "print(f'Best parameters: {model4.best_params_}')\n",
        "print(f\"Best score: {f1_score(testY, pred, average='weighted')}\")\n"
      ]
    },
    {
      "cell_type": "markdown",
      "metadata": {
        "id": "3vG73wAvLejj"
      },
      "source": [
        "Train:\n",
        "\n",
        "              precision    recall  f1-score   support\n",
        "\n",
        "           1       0.40      0.62      0.48     25354\n",
        "           2       0.56      0.30      0.39     52935\n",
        "           3       0.54      0.67      0.60     44942\n",
        "\n",
        "    accuracy                           0.50    123231\n",
        "   macro avg       0.50      0.53      0.49    123231\n",
        "\n",
        "weighted avg       0.52      0.50      0.49    123231\n",
        "\n",
        "Test:\n",
        "\n",
        "              precision    recall  f1-score   support\n",
        "\n",
        "           1       0.36      0.55      0.43      8452\n",
        "           2       0.51      0.27      0.36     17645\n",
        "           3       0.52      0.64      0.57     14981\n",
        "\n",
        "    accuracy                           0.46     41078\n",
        "   macro avg       0.46      0.49      0.45     41078\n",
        "   \n",
        "weighted avg       0.48      0.46      0.45     41078\n",
        "\n",
        "Best parameters: {'estimator__max_depth': 10, 'estimator__min_samples_split': 5}\n",
        "Best score: 0.45049394305053453"
      ]
    },
    {
      "cell_type": "markdown",
      "metadata": {
        "id": "tDR0tYMDSs6a"
      },
      "source": [
        "## Mô hình XGBoot"
      ]
    },
    {
      "cell_type": "code",
      "execution_count": null,
      "metadata": {
        "colab": {
          "base_uri": "https://localhost:8080/"
        },
        "id": "h3viOx24UEZ6",
        "outputId": "a81e1a0f-d59a-4e68-d7fa-2880f3ac898c"
      },
      "outputs": [
        {
          "name": "stderr",
          "output_type": "stream",
          "text": [
            "/usr/local/lib/python3.10/dist-packages/ray/tune/tune.py:258: UserWarning: Passing a `local_dir` is deprecated and will be removed in the future. Pass `storage_path` instead or set the`RAY_AIR_LOCAL_CACHE_DIR` environment variable instead.\n",
            "  warnings.warn(\n"
          ]
        },
        {
          "name": "stdout",
          "output_type": "stream",
          "text": [
            "\u001b[2m\u001b[36m(_Trainable pid=12980)\u001b[0m [02:43:46] WARNING: ../src/learner.cc:767: \n",
            "\u001b[2m\u001b[36m(_Trainable pid=12980)\u001b[0m Parameters: { \"scale_pos_weight\" } are not used.\n",
            "\u001b[2m\u001b[36m(_Trainable pid=12980)\u001b[0m \n",
            "\u001b[2m\u001b[36m(_Trainable pid=12980)\u001b[0m [02:44:31] WARNING: ../src/learner.cc:767: \u001b[32m [repeated 2x across cluster]\u001b[0m\n",
            "\u001b[2m\u001b[36m(_Trainable pid=12980)\u001b[0m Parameters: { \"scale_pos_weight\" } are not used.\u001b[32m [repeated 2x across cluster]\u001b[0m\n",
            "\u001b[2m\u001b[36m(_Trainable pid=12980)\u001b[0m \u001b[32m [repeated 2x across cluster]\u001b[0m\n",
            "\u001b[2m\u001b[36m(_Trainable pid=13015)\u001b[0m [02:45:21] WARNING: ../src/learner.cc:767: \u001b[32m [repeated 2x across cluster]\u001b[0m\n",
            "\u001b[2m\u001b[36m(_Trainable pid=13015)\u001b[0m Parameters: { \"scale_pos_weight\" } are not used.\u001b[32m [repeated 2x across cluster]\u001b[0m\n",
            "\u001b[2m\u001b[36m(_Trainable pid=13015)\u001b[0m \u001b[32m [repeated 2x across cluster]\u001b[0m\n",
            "\u001b[2m\u001b[36m(_Trainable pid=13015)\u001b[0m [02:46:08] WARNING: ../src/learner.cc:767: \u001b[32m [repeated 2x across cluster]\u001b[0m\n",
            "\u001b[2m\u001b[36m(_Trainable pid=13015)\u001b[0m Parameters: { \"scale_pos_weight\" } are not used.\u001b[32m [repeated 2x across cluster]\u001b[0m\n",
            "\u001b[2m\u001b[36m(_Trainable pid=13015)\u001b[0m \u001b[32m [repeated 2x across cluster]\u001b[0m\n",
            "\u001b[2m\u001b[36m(_Trainable pid=13015)\u001b[0m [02:46:53] WARNING: ../src/learner.cc:767: \u001b[32m [repeated 2x across cluster]\u001b[0m\n",
            "\u001b[2m\u001b[36m(_Trainable pid=13015)\u001b[0m Parameters: { \"scale_pos_weight\" } are not used.\u001b[32m [repeated 2x across cluster]\u001b[0m\n",
            "\u001b[2m\u001b[36m(_Trainable pid=13015)\u001b[0m \u001b[32m [repeated 2x across cluster]\u001b[0m\n",
            "\u001b[2m\u001b[36m(_Trainable pid=13015)\u001b[0m [02:47:44] WARNING: ../src/learner.cc:767: \u001b[32m [repeated 2x across cluster]\u001b[0m\n",
            "\u001b[2m\u001b[36m(_Trainable pid=13015)\u001b[0m Parameters: { \"scale_pos_weight\" } are not used.\u001b[32m [repeated 2x across cluster]\u001b[0m\n",
            "\u001b[2m\u001b[36m(_Trainable pid=13015)\u001b[0m \u001b[32m [repeated 2x across cluster]\u001b[0m\n",
            "\u001b[2m\u001b[36m(_Trainable pid=13015)\u001b[0m [02:48:30] WARNING: ../src/learner.cc:767: \u001b[32m [repeated 2x across cluster]\u001b[0m\n",
            "\u001b[2m\u001b[36m(_Trainable pid=13015)\u001b[0m Parameters: { \"scale_pos_weight\" } are not used.\u001b[32m [repeated 2x across cluster]\u001b[0m\n",
            "\u001b[2m\u001b[36m(_Trainable pid=13015)\u001b[0m \u001b[32m [repeated 2x across cluster]\u001b[0m\n",
            "\u001b[2m\u001b[36m(_Trainable pid=12980)\u001b[0m \n",
            "\u001b[2m\u001b[36m(_Trainable pid=12980)\u001b[0m \n",
            "\u001b[2m\u001b[36m(_Trainable pid=12980)\u001b[0m \n",
            "\u001b[2m\u001b[36m(_Trainable pid=13015)\u001b[0m [02:49:16] WARNING: ../src/learner.cc:767: \n",
            "\u001b[2m\u001b[36m(_Trainable pid=13015)\u001b[0m Parameters: { \"scale_pos_weight\" } are not used.\n",
            "\u001b[2m\u001b[36m(_Trainable pid=13015)\u001b[0m \n",
            "\u001b[2m\u001b[36m(_Trainable pid=13015)\u001b[0m [02:50:03] WARNING: ../src/learner.cc:767: \n",
            "\u001b[2m\u001b[36m(_Trainable pid=13015)\u001b[0m Parameters: { \"scale_pos_weight\" } are not used.\n",
            "\u001b[2m\u001b[36m(_Trainable pid=13015)\u001b[0m \n",
            "\u001b[2m\u001b[36m(_Trainable pid=12980)\u001b[0m [02:50:29] WARNING: ../src/learner.cc:767: \n",
            "\u001b[2m\u001b[36m(_Trainable pid=12980)\u001b[0m Parameters: { \"scale_pos_weight\" } are not used.\n",
            "\u001b[2m\u001b[36m(_Trainable pid=12980)\u001b[0m \n",
            "\u001b[2m\u001b[36m(_Trainable pid=13015)\u001b[0m \n",
            "\u001b[2m\u001b[36m(_Trainable pid=13015)\u001b[0m \n",
            "\u001b[2m\u001b[36m(_Trainable pid=13015)\u001b[0m \n",
            "\u001b[2m\u001b[36m(_Trainable pid=13015)\u001b[0m [02:51:35] WARNING: ../src/learner.cc:767: \n",
            "\u001b[2m\u001b[36m(_Trainable pid=13015)\u001b[0m Parameters: { \"scale_pos_weight\" } are not used.\n",
            "\u001b[2m\u001b[36m(_Trainable pid=13015)\u001b[0m \n",
            "\u001b[2m\u001b[36m(_Trainable pid=12980)\u001b[0m \n",
            "\u001b[2m\u001b[36m(_Trainable pid=12980)\u001b[0m \n",
            "\u001b[2m\u001b[36m(_Trainable pid=12980)\u001b[0m \n",
            "\u001b[2m\u001b[36m(_Trainable pid=13015)\u001b[0m [02:52:55] WARNING: ../src/learner.cc:767: \n",
            "\u001b[2m\u001b[36m(_Trainable pid=13015)\u001b[0m Parameters: { \"scale_pos_weight\" } are not used.\n",
            "\u001b[2m\u001b[36m(_Trainable pid=13015)\u001b[0m \n",
            "\u001b[2m\u001b[36m(_Trainable pid=12980)\u001b[0m \n",
            "\u001b[2m\u001b[36m(_Trainable pid=12980)\u001b[0m \n",
            "\u001b[2m\u001b[36m(_Trainable pid=12980)\u001b[0m \n",
            "\u001b[2m\u001b[36m(_Trainable pid=13015)\u001b[0m [02:54:15] WARNING: ../src/learner.cc:767: \n",
            "\u001b[2m\u001b[36m(_Trainable pid=13015)\u001b[0m Parameters: { \"scale_pos_weight\" } are not used.\n",
            "\u001b[2m\u001b[36m(_Trainable pid=13015)\u001b[0m \n",
            "\u001b[2m\u001b[36m(_Trainable pid=12980)\u001b[0m \n",
            "\u001b[2m\u001b[36m(_Trainable pid=12980)\u001b[0m \n",
            "\u001b[2m\u001b[36m(_Trainable pid=12980)\u001b[0m \n",
            "\u001b[2m\u001b[36m(_Trainable pid=13015)\u001b[0m [02:55:33] WARNING: ../src/learner.cc:767: \n",
            "\u001b[2m\u001b[36m(_Trainable pid=13015)\u001b[0m Parameters: { \"scale_pos_weight\" } are not used.\n",
            "\u001b[2m\u001b[36m(_Trainable pid=13015)\u001b[0m \n",
            "\u001b[2m\u001b[36m(_Trainable pid=12980)\u001b[0m \n",
            "\u001b[2m\u001b[36m(_Trainable pid=12980)\u001b[0m \n",
            "\u001b[2m\u001b[36m(_Trainable pid=12980)\u001b[0m \n",
            "\u001b[2m\u001b[36m(_Trainable pid=13015)\u001b[0m [02:56:56] WARNING: ../src/learner.cc:767: \n",
            "\u001b[2m\u001b[36m(_Trainable pid=13015)\u001b[0m Parameters: { \"scale_pos_weight\" } are not used.\n",
            "\u001b[2m\u001b[36m(_Trainable pid=13015)\u001b[0m \n",
            "\u001b[2m\u001b[36m(_Trainable pid=12980)\u001b[0m \n",
            "\u001b[2m\u001b[36m(_Trainable pid=12980)\u001b[0m \n",
            "\u001b[2m\u001b[36m(_Trainable pid=12980)\u001b[0m \n",
            "\u001b[2m\u001b[36m(_Trainable pid=13015)\u001b[0m [02:58:15] WARNING: ../src/learner.cc:767: \n",
            "\u001b[2m\u001b[36m(_Trainable pid=13015)\u001b[0m Parameters: { \"scale_pos_weight\" } are not used.\n",
            "\u001b[2m\u001b[36m(_Trainable pid=13015)\u001b[0m \n",
            "\u001b[2m\u001b[36m(_Trainable pid=12980)\u001b[0m \n",
            "\u001b[2m\u001b[36m(_Trainable pid=12980)\u001b[0m \n",
            "\u001b[2m\u001b[36m(_Trainable pid=12980)\u001b[0m \n",
            "\u001b[2m\u001b[36m(_Trainable pid=12980)\u001b[0m [02:59:52] WARNING: ../src/learner.cc:767: \n",
            "\u001b[2m\u001b[36m(_Trainable pid=12980)\u001b[0m Parameters: { \"scale_pos_weight\" } are not used.\n",
            "\u001b[2m\u001b[36m(_Trainable pid=12980)\u001b[0m \n",
            "\u001b[2m\u001b[36m(_Trainable pid=13015)\u001b[0m \n",
            "\u001b[2m\u001b[36m(_Trainable pid=13015)\u001b[0m \n",
            "\u001b[2m\u001b[36m(_Trainable pid=13015)\u001b[0m \n",
            "\u001b[2m\u001b[36m(_Trainable pid=12980)\u001b[0m [03:01:11] WARNING: ../src/learner.cc:767: \n",
            "\u001b[2m\u001b[36m(_Trainable pid=12980)\u001b[0m Parameters: { \"scale_pos_weight\" } are not used.\n",
            "\u001b[2m\u001b[36m(_Trainable pid=12980)\u001b[0m \n",
            "\u001b[2m\u001b[36m(_Trainable pid=13015)\u001b[0m \n",
            "\u001b[2m\u001b[36m(_Trainable pid=13015)\u001b[0m \n",
            "\u001b[2m\u001b[36m(_Trainable pid=13015)\u001b[0m \n",
            "\u001b[2m\u001b[36m(_Trainable pid=12980)\u001b[0m [03:03:14] WARNING: ../src/learner.cc:767: \n",
            "\u001b[2m\u001b[36m(_Trainable pid=12980)\u001b[0m Parameters: { \"scale_pos_weight\" } are not used.\n",
            "\u001b[2m\u001b[36m(_Trainable pid=12980)\u001b[0m \n",
            "\u001b[2m\u001b[36m(_Trainable pid=13015)\u001b[0m \n",
            "\u001b[2m\u001b[36m(_Trainable pid=13015)\u001b[0m \n",
            "\u001b[2m\u001b[36m(_Trainable pid=13015)\u001b[0m \n",
            "\u001b[2m\u001b[36m(_Trainable pid=12980)\u001b[0m [03:05:18] WARNING: ../src/learner.cc:767: \n",
            "\u001b[2m\u001b[36m(_Trainable pid=12980)\u001b[0m Parameters: { \"scale_pos_weight\" } are not used.\n",
            "\u001b[2m\u001b[36m(_Trainable pid=12980)\u001b[0m \n",
            "\u001b[2m\u001b[36m(_Trainable pid=13015)\u001b[0m \n",
            "\u001b[2m\u001b[36m(_Trainable pid=13015)\u001b[0m \n",
            "\u001b[2m\u001b[36m(_Trainable pid=13015)\u001b[0m \n",
            "\u001b[2m\u001b[36m(_Trainable pid=12980)\u001b[0m [03:07:21] WARNING: ../src/learner.cc:767: \n",
            "\u001b[2m\u001b[36m(_Trainable pid=12980)\u001b[0m Parameters: { \"scale_pos_weight\" } are not used.\n",
            "\u001b[2m\u001b[36m(_Trainable pid=12980)\u001b[0m \n",
            "\u001b[2m\u001b[36m(_Trainable pid=13015)\u001b[0m \n",
            "\u001b[2m\u001b[36m(_Trainable pid=13015)\u001b[0m \n",
            "\u001b[2m\u001b[36m(_Trainable pid=13015)\u001b[0m \n",
            "\u001b[2m\u001b[36m(_Trainable pid=12980)\u001b[0m [03:09:34] WARNING: ../src/learner.cc:767: \n",
            "\u001b[2m\u001b[36m(_Trainable pid=12980)\u001b[0m Parameters: { \"scale_pos_weight\" } are not used.\n",
            "\u001b[2m\u001b[36m(_Trainable pid=12980)\u001b[0m \n",
            "\u001b[2m\u001b[36m(_Trainable pid=13015)\u001b[0m \n",
            "\u001b[2m\u001b[36m(_Trainable pid=13015)\u001b[0m \n",
            "\u001b[2m\u001b[36m(_Trainable pid=13015)\u001b[0m \n",
            "\u001b[2m\u001b[36m(_Trainable pid=12980)\u001b[0m [03:11:39] WARNING: ../src/learner.cc:767: \n",
            "\u001b[2m\u001b[36m(_Trainable pid=12980)\u001b[0m Parameters: { \"scale_pos_weight\" } are not used.\n",
            "\u001b[2m\u001b[36m(_Trainable pid=12980)\u001b[0m \n",
            "\u001b[2m\u001b[36m(_Trainable pid=13015)\u001b[0m \n",
            "\u001b[2m\u001b[36m(_Trainable pid=13015)\u001b[0m \n",
            "\u001b[2m\u001b[36m(_Trainable pid=13015)\u001b[0m \n",
            "\u001b[2m\u001b[36m(_Trainable pid=13015)\u001b[0m [03:14:32] WARNING: ../src/learner.cc:767: \n",
            "\u001b[2m\u001b[36m(_Trainable pid=13015)\u001b[0m Parameters: { \"scale_pos_weight\" } are not used.\n",
            "\u001b[2m\u001b[36m(_Trainable pid=13015)\u001b[0m \n",
            "\u001b[2m\u001b[36m(_Trainable pid=12980)\u001b[0m \n",
            "\u001b[2m\u001b[36m(_Trainable pid=12980)\u001b[0m \n",
            "\u001b[2m\u001b[36m(_Trainable pid=12980)\u001b[0m \n",
            "\u001b[2m\u001b[36m(_Trainable pid=13015)\u001b[0m [03:16:35] WARNING: ../src/learner.cc:767: \n",
            "\u001b[2m\u001b[36m(_Trainable pid=13015)\u001b[0m Parameters: { \"scale_pos_weight\" } are not used.\n",
            "\u001b[2m\u001b[36m(_Trainable pid=13015)\u001b[0m \n",
            "\u001b[2m\u001b[36m(_Trainable pid=13015)\u001b[0m [03:18:39] WARNING: ../src/learner.cc:767: \n",
            "\u001b[2m\u001b[36m(_Trainable pid=13015)\u001b[0m Parameters: { \"scale_pos_weight\" } are not used.\n",
            "\u001b[2m\u001b[36m(_Trainable pid=13015)\u001b[0m \n",
            "\u001b[2m\u001b[36m(_Trainable pid=12980)\u001b[0m [03:19:06] WARNING: ../src/learner.cc:767: \n",
            "\u001b[2m\u001b[36m(_Trainable pid=12980)\u001b[0m Parameters: { \"scale_pos_weight\" } are not used.\n",
            "\u001b[2m\u001b[36m(_Trainable pid=12980)\u001b[0m \n",
            "\u001b[2m\u001b[36m(_Trainable pid=13015)\u001b[0m \n",
            "\u001b[2m\u001b[36m(_Trainable pid=13015)\u001b[0m \n",
            "\u001b[2m\u001b[36m(_Trainable pid=13015)\u001b[0m \n",
            "\u001b[2m\u001b[36m(_Trainable pid=12980)\u001b[0m [03:22:54] WARNING: ../src/learner.cc:767: \n",
            "\u001b[2m\u001b[36m(_Trainable pid=12980)\u001b[0m Parameters: { \"scale_pos_weight\" } are not used.\n",
            "\u001b[2m\u001b[36m(_Trainable pid=12980)\u001b[0m \n",
            "\u001b[2m\u001b[36m(_Trainable pid=13015)\u001b[0m \n",
            "\u001b[2m\u001b[36m(_Trainable pid=13015)\u001b[0m \n",
            "\u001b[2m\u001b[36m(_Trainable pid=13015)\u001b[0m \n",
            "\u001b[2m\u001b[36m(_Trainable pid=12980)\u001b[0m [03:26:42] WARNING: ../src/learner.cc:767: \n",
            "\u001b[2m\u001b[36m(_Trainable pid=12980)\u001b[0m Parameters: { \"scale_pos_weight\" } are not used.\n",
            "\u001b[2m\u001b[36m(_Trainable pid=12980)\u001b[0m \n",
            "\u001b[2m\u001b[36m(_Trainable pid=13015)\u001b[0m \n",
            "\u001b[2m\u001b[36m(_Trainable pid=13015)\u001b[0m \n",
            "\u001b[2m\u001b[36m(_Trainable pid=13015)\u001b[0m \n",
            "\u001b[2m\u001b[36m(_Trainable pid=12980)\u001b[0m [03:30:31] WARNING: ../src/learner.cc:767: \n",
            "\u001b[2m\u001b[36m(_Trainable pid=12980)\u001b[0m Parameters: { \"scale_pos_weight\" } are not used.\n",
            "\u001b[2m\u001b[36m(_Trainable pid=12980)\u001b[0m \n",
            "\u001b[2m\u001b[36m(_Trainable pid=13015)\u001b[0m \n",
            "\u001b[2m\u001b[36m(_Trainable pid=13015)\u001b[0m \n",
            "\u001b[2m\u001b[36m(_Trainable pid=13015)\u001b[0m \n",
            "\u001b[2m\u001b[36m(_Trainable pid=12980)\u001b[0m [03:34:17] WARNING: ../src/learner.cc:767: \n",
            "\u001b[2m\u001b[36m(_Trainable pid=12980)\u001b[0m Parameters: { \"scale_pos_weight\" } are not used.\n",
            "\u001b[2m\u001b[36m(_Trainable pid=12980)\u001b[0m \n",
            "\u001b[2m\u001b[36m(_Trainable pid=13015)\u001b[0m \n",
            "\u001b[2m\u001b[36m(_Trainable pid=13015)\u001b[0m \n",
            "\u001b[2m\u001b[36m(_Trainable pid=13015)\u001b[0m \n",
            "\u001b[2m\u001b[36m(_Trainable pid=12980)\u001b[0m [03:38:08] WARNING: ../src/learner.cc:767: \n",
            "\u001b[2m\u001b[36m(_Trainable pid=12980)\u001b[0m Parameters: { \"scale_pos_weight\" } are not used.\n",
            "\u001b[2m\u001b[36m(_Trainable pid=12980)\u001b[0m \n",
            "\u001b[2m\u001b[36m(_Trainable pid=12980)\u001b[0m [03:41:56] WARNING: ../src/learner.cc:767: \n",
            "\u001b[2m\u001b[36m(_Trainable pid=12980)\u001b[0m Parameters: { \"scale_pos_weight\" } are not used.\n",
            "\u001b[2m\u001b[36m(_Trainable pid=12980)\u001b[0m \n",
            "\u001b[2m\u001b[36m(_Trainable pid=13015)\u001b[0m [03:43:42] WARNING: ../src/learner.cc:767: \n",
            "\u001b[2m\u001b[36m(_Trainable pid=13015)\u001b[0m Parameters: { \"scale_pos_weight\" } are not used.\n",
            "\u001b[2m\u001b[36m(_Trainable pid=13015)\u001b[0m \n",
            "\u001b[2m\u001b[36m(_Trainable pid=12980)\u001b[0m \n",
            "\u001b[2m\u001b[36m(_Trainable pid=12980)\u001b[0m \n",
            "\u001b[2m\u001b[36m(_Trainable pid=12980)\u001b[0m \n",
            "\u001b[2m\u001b[36m(_Trainable pid=12980)\u001b[0m [03:49:32] WARNING: ../src/learner.cc:767: \n",
            "\u001b[2m\u001b[36m(_Trainable pid=12980)\u001b[0m Parameters: { \"scale_pos_weight\" } are not used.\n",
            "\u001b[2m\u001b[36m(_Trainable pid=12980)\u001b[0m \n",
            "\u001b[2m\u001b[36m(_Trainable pid=13015)\u001b[0m \n",
            "\u001b[2m\u001b[36m(_Trainable pid=13015)\u001b[0m \n",
            "\u001b[2m\u001b[36m(_Trainable pid=13015)\u001b[0m \n",
            "\u001b[2m\u001b[36m(_Trainable pid=12980)\u001b[0m [03:56:13] WARNING: ../src/learner.cc:767: \n",
            "\u001b[2m\u001b[36m(_Trainable pid=12980)\u001b[0m Parameters: { \"scale_pos_weight\" } are not used.\n",
            "\u001b[2m\u001b[36m(_Trainable pid=12980)\u001b[0m \n",
            "\u001b[2m\u001b[36m(_Trainable pid=13015)\u001b[0m \n",
            "\u001b[2m\u001b[36m(_Trainable pid=13015)\u001b[0m \n",
            "\u001b[2m\u001b[36m(_Trainable pid=13015)\u001b[0m \n",
            "\u001b[2m\u001b[36m(_Trainable pid=13015)\u001b[0m [04:02:41] WARNING: ../src/learner.cc:767: \n",
            "\u001b[2m\u001b[36m(_Trainable pid=13015)\u001b[0m Parameters: { \"scale_pos_weight\" } are not used.\n",
            "\u001b[2m\u001b[36m(_Trainable pid=13015)\u001b[0m \n",
            "\u001b[2m\u001b[36m(_Trainable pid=12980)\u001b[0m \n",
            "\u001b[2m\u001b[36m(_Trainable pid=12980)\u001b[0m \n",
            "\u001b[2m\u001b[36m(_Trainable pid=12980)\u001b[0m \n",
            "\u001b[2m\u001b[36m(_Trainable pid=13015)\u001b[0m [04:09:00] WARNING: ../src/learner.cc:767: \n",
            "\u001b[2m\u001b[36m(_Trainable pid=13015)\u001b[0m Parameters: { \"scale_pos_weight\" } are not used.\n",
            "\u001b[2m\u001b[36m(_Trainable pid=13015)\u001b[0m \n",
            "\u001b[2m\u001b[36m(_Trainable pid=12980)\u001b[0m \n",
            "\u001b[2m\u001b[36m(_Trainable pid=12980)\u001b[0m \n",
            "\u001b[2m\u001b[36m(_Trainable pid=12980)\u001b[0m \n",
            "\u001b[2m\u001b[36m(_Trainable pid=13015)\u001b[0m [04:15:31] WARNING: ../src/learner.cc:767: \n",
            "\u001b[2m\u001b[36m(_Trainable pid=13015)\u001b[0m Parameters: { \"scale_pos_weight\" } are not used.\n",
            "\u001b[2m\u001b[36m(_Trainable pid=13015)\u001b[0m \n",
            "\u001b[2m\u001b[36m(_Trainable pid=12980)\u001b[0m \n",
            "\u001b[2m\u001b[36m(_Trainable pid=12980)\u001b[0m \n",
            "\u001b[2m\u001b[36m(_Trainable pid=12980)\u001b[0m \n",
            "\u001b[2m\u001b[36m(_Trainable pid=13015)\u001b[0m [04:22:01] WARNING: ../src/learner.cc:767: \n",
            "\u001b[2m\u001b[36m(_Trainable pid=13015)\u001b[0m Parameters: { \"scale_pos_weight\" } are not used.\n",
            "\u001b[2m\u001b[36m(_Trainable pid=13015)\u001b[0m \n",
            "\u001b[2m\u001b[36m(_Trainable pid=12980)\u001b[0m \n",
            "\u001b[2m\u001b[36m(_Trainable pid=12980)\u001b[0m \n",
            "\u001b[2m\u001b[36m(_Trainable pid=12980)\u001b[0m \n",
            "\u001b[2m\u001b[36m(_Trainable pid=13015)\u001b[0m [04:28:31] WARNING: ../src/learner.cc:767: \n",
            "\u001b[2m\u001b[36m(_Trainable pid=13015)\u001b[0m Parameters: { \"scale_pos_weight\" } are not used.\n",
            "\u001b[2m\u001b[36m(_Trainable pid=13015)\u001b[0m \n",
            "\u001b[2m\u001b[36m(_Trainable pid=12980)\u001b[0m \n",
            "\u001b[2m\u001b[36m(_Trainable pid=12980)\u001b[0m \n",
            "\u001b[2m\u001b[36m(_Trainable pid=12980)\u001b[0m \n",
            "\u001b[2m\u001b[36m(_Trainable pid=13015)\u001b[0m [04:35:17] WARNING: ../src/learner.cc:767: \n",
            "\u001b[2m\u001b[36m(_Trainable pid=13015)\u001b[0m Parameters: { \"scale_pos_weight\" } are not used.\n",
            "\u001b[2m\u001b[36m(_Trainable pid=13015)\u001b[0m \n",
            "\u001b[2m\u001b[36m(_Trainable pid=12980)\u001b[0m \n",
            "\u001b[2m\u001b[36m(_Trainable pid=12980)\u001b[0m \n",
            "\u001b[2m\u001b[36m(_Trainable pid=12980)\u001b[0m \n",
            "\u001b[2m\u001b[36m(_Trainable pid=13015)\u001b[0m [04:42:00] WARNING: ../src/learner.cc:767: \n",
            "\u001b[2m\u001b[36m(_Trainable pid=13015)\u001b[0m Parameters: { \"scale_pos_weight\" } are not used.\n",
            "\u001b[2m\u001b[36m(_Trainable pid=13015)\u001b[0m \n"
          ]
        }
      ],
      "source": [
        "import xgboost as xgb\n",
        "\n",
        "# Estimator\n",
        "estimator = xgb.XGBClassifier(scale_pos_weight=1, random_state=42)\n",
        "\n",
        "# Create Pipeline\n",
        "pipeline = Pipeline(steps=[\n",
        "    ('column_transformer', preprocessor),\n",
        "    ('estimator', estimator)\n",
        "])\n",
        "\n",
        "# Parameter grid\n",
        "param_grid = {\n",
        "    \"estimator__learning_rate\": [0.1, 0.01, 0.001],\n",
        "    \"estimator__max_depth\": [3, 5, 7],\n",
        "    \"estimator__n_estimators\": [100, 500, 1000]\n",
        "}\n",
        "\n",
        "label_encoder = LabelEncoder()\n",
        "\n",
        "# Fit the label encoder on the target variable\n",
        "label_encoder.fit(trainY)\n",
        "\n",
        "# Transform the target variable to the correct classes\n",
        "y_encoded = label_encoder.transform(trainY)\n",
        "\n",
        "# Build the model\n",
        "model5 = build_model(trainX, y_encoded, pipeline, param_grid)\n",
        "\n",
        "# Compare on training dataset\n",
        "pred = model5.predict(trainX)\n",
        "print('Train:\\n')\n",
        "print(classification_report(trainY, pred))\n",
        "\n",
        "# Compare on testing dataset\n",
        "pred = model5.predict(testX)\n",
        "print('Test:\\n')\n",
        "print(classification_report(testY, pred))\n",
        "\n",
        "print(f'Best parameters: {model5.best_params_}')\n",
        "print(f\"Best score: {f1_score(testY, pred, average='weighted')}\")\n"
      ]
    },
    {
      "cell_type": "markdown",
      "metadata": {
        "id": "LBsiiannS0TR"
      },
      "source": [
        "## Mô hình CatBoot"
      ]
    },
    {
      "cell_type": "code",
      "execution_count": null,
      "metadata": {
        "id": "MDGEsMvGUICe"
      },
      "outputs": [],
      "source": [
        "from catboost import CatBoostClassifier\n",
        "\n",
        "# Estimator\n",
        "estimator = CatBoostClassifier(scale_pos_weight=1, random_state=42)\n",
        "\n",
        "# Create Pipeline\n",
        "pipeline = Pipeline(steps=[\n",
        "    ('column_transformer', preprocessor),\n",
        "    ('estimator', estimator)\n",
        "])\n",
        "\n",
        "# Parameter grid\n",
        "param_grid = {\n",
        "    \"estimator__learning_rate\": [0.1, 0.01, 0.001],\n",
        "    \"estimator__depth\": [3, 5, 7],\n",
        "    \"estimator__iterations\": [100, 500, 1000]\n",
        "}\n",
        "\n",
        "label_encoder = LabelEncoder()\n",
        "\n",
        "# Fit the label encoder on the target variable\n",
        "label_encoder.fit(trainY)\n",
        "\n",
        "# Transform the target variable to the correct classes\n",
        "y_encoded = label_encoder.transform(trainY)\n",
        "\n",
        "# Build the model\n",
        "model6 = build_model(trainX, y_encoded, pipeline, param_grid)\n",
        "\n",
        "# Compare on training dataset\n",
        "pred = model6.predict(trainX)\n",
        "print('Train:\\n')\n",
        "print(classification_report(trainY, pred))\n",
        "\n",
        "# Compare on testing dataset\n",
        "pred = model3.predict(testX)\n",
        "print('Test:\\n')\n",
        "print(classification_report(testY, pred))\n",
        "\n",
        "print(f'Best parameters: {model6.best_params_}')\n",
        "print(f\"Best score: {f1_score(testY, pred, average='weighted')}\")\n"
      ]
    },
    {
      "cell_type": "markdown",
      "metadata": {
        "id": "FlgHq4fHS0i4"
      },
      "source": [
        "## Mô hình KNN"
      ]
    },
    {
      "cell_type": "code",
      "execution_count": null,
      "metadata": {
        "id": "AIAcOG7bUdxI"
      },
      "outputs": [],
      "source": [
        "from sklearn.neighbors import KNeighborsClassifier\n",
        "\n",
        "# Estimator\n",
        "estimator = KNeighborsClassifier()\n",
        "\n",
        "# Create Pipeline\n",
        "pipeline = Pipeline(steps=[\n",
        "    ('column_transformer', preprocessor),\n",
        "    ('estimator', estimator)\n",
        "])\n",
        "\n",
        "# Parameter grid\n",
        "param_grid = {\n",
        "    \"estimator__n_neighbors\": [3, 5, 7],\n",
        "    \"estimator__weights\": ['uniform', 'distance'],\n",
        "    \"estimator__p\": [1, 2]\n",
        "}\n",
        "\n",
        "# Build the model\n",
        "model7 = build_model(trainX, trainY, pipeline, param_grid)\n",
        "\n",
        "# Compare on training dataset\n",
        "pred = model7.predict(trainX)\n",
        "print('Train:\\n')\n",
        "print(classification_report(trainY, pred))\n",
        "\n",
        "# Compare on testing dataset\n",
        "pred = model7.predict(testX)\n",
        "print('Test:\\n')\n",
        "print(classification_report(testY, pred))\n",
        "\n",
        "print(f'Best parameters: {model7.best_params_}')\n",
        "print(f\"Best score: {f1_score(testY, pred, average='weighted')}\")\n"
      ]
    },
    {
      "cell_type": "markdown",
      "metadata": {
        "id": "nm4e-DyZS01E"
      },
      "source": [
        "## Mô hình GaussianNB"
      ]
    },
    {
      "cell_type": "code",
      "execution_count": null,
      "metadata": {
        "id": "1FnNagiOUleS"
      },
      "outputs": [],
      "source": [
        "from sklearn.naive_bayes import GaussianNB\n",
        "\n",
        "# Estimator\n",
        "estimator = GaussianNB()\n",
        "\n",
        "# Create Pipeline\n",
        "pipeline = Pipeline(steps=[\n",
        "    ('column_transformer', preprocessor),\n",
        "    ('estimator', estimator)\n",
        "])\n",
        "\n",
        "# Parameter grid (not applicable for GaussianNB)\n",
        "\n",
        "# Build the model\n",
        "model8 = build_model(trainX, trainY, pipeline)\n",
        "\n",
        "# Compare on training dataset\n",
        "pred = model8.predict(trainX)\n",
        "print('Train:\\n')\n",
        "print(classification_report(trainY, pred))\n",
        "\n",
        "# Compare on testing dataset\n",
        "pred = model8.predict(testX)\n",
        "print('Test:\\n')\n",
        "print(classification_report(testY, pred))\n",
        "\n",
        "print(f\"Best score: {f1_score(testY, pred, average='weighted')}\")\n"
      ]
    },
    {
      "cell_type": "markdown",
      "metadata": {
        "id": "Hi18GsOoUywB"
      },
      "source": [
        "## Mô hình SGD"
      ]
    },
    {
      "cell_type": "code",
      "execution_count": null,
      "metadata": {
        "id": "R6SYj1waU0re"
      },
      "outputs": [],
      "source": [
        "from sklearn.linear_model import SGDClassifier\n",
        "\n",
        "# Estimator\n",
        "estimator = SGDClassifier(class_weight='balanced', random_state=42)\n",
        "\n",
        "# Create Pipeline\n",
        "pipeline = Pipeline(steps=[\n",
        "    ('column_transformer', preprocessor),\n",
        "    ('estimator', estimator)\n",
        "])\n",
        "\n",
        "# Parameter grid\n",
        "param_grid = {\n",
        "    \"estimator__loss\": ['hinge', 'log', 'modified_huber'],\n",
        "    \"estimator__penalty\": ['l2', 'l1', 'elasticnet'],\n",
        "    \"estimator__alpha\": [0.0001, 0.001, 0.01]\n",
        "}\n",
        "\n",
        "# Build the model\n",
        "model9 = build_model(trainX, trainY, pipeline, param_grid)\n",
        "\n",
        "# Compare on training dataset\n",
        "pred = model9.predict(trainX)\n",
        "print('Train:\\n')\n",
        "print(classification_report(trainY, pred))\n",
        "\n",
        "# Compare on testing dataset\n",
        "pred = model9.predict(testX)\n",
        "print('Test:\\n')\n",
        "print(classification_report(testY, pred))\n",
        "\n",
        "print(f'Best parameters: {model9.best_params_}')\n",
        "print(f\"Best score: {f1_score(testY, pred, average='weighted')}\")\n"
      ]
    },
    {
      "cell_type": "markdown",
      "metadata": {
        "id": "Xq518Um0THGZ"
      },
      "source": [
        "## Stacking: using a stacking ensemble with level 1 using a decision tree model and level 2 using an SVM"
      ]
    },
    {
      "cell_type": "code",
      "execution_count": null,
      "metadata": {
        "id": "MUr1VGqDVQTk"
      },
      "outputs": [],
      "source": [
        "from sklearn.ensemble import StackingClassifier\n",
        "from sklearn.svm import SVC\n",
        "from sklearn.tree import DecisionTreeClassifier\n",
        "\n",
        "# Level 1 estimators\n",
        "level1_estimators = [\n",
        "    ('dt', DecisionTreeClassifier(class_weight='balanced'))\n",
        "]\n",
        "\n",
        "# Level 2 estimator\n",
        "level2_estimator = SVC()\n",
        "\n",
        "# Create StackingClassifier\n",
        "stacking_classifier = StackingClassifier(\n",
        "    estimators=level1_estimators,\n",
        "    final_estimator=level2_estimator\n",
        ")\n",
        "\n",
        "# Create Pipeline\n",
        "pipeline = Pipeline(steps=[\n",
        "    ('column_transformer', preprocessor),\n",
        "    ('estimator', stacking_classifier)\n",
        "])\n",
        "\n",
        "# Parameter grid for level 1 decision tree (not applicable for level 2 SVM)\n",
        "\n",
        "param_grid = {\n",
        "    'estimator__dt__max_depth': [None, 10, 20, 30],\n",
        "    'estimator__dt__min_samples_split': [2, 5, 10]\n",
        "}\n",
        "\n",
        "# Build the model\n",
        "model10 = build_model(trainX, trainY, pipeline, param_grid)\n",
        "\n",
        "# Compare on training dataset\n",
        "pred = model10.predict(trainX)\n",
        "print('Train:\\n')\n",
        "print(classification_report(trainY, pred))\n",
        "\n",
        "# Compare on testing dataset\n",
        "pred = model10.predict(testX)\n",
        "print('Test:\\n')\n",
        "print(classification_report(testY, pred))\n",
        "\n",
        "print(f'Best parameters: {model10.best_params_}')\n",
        "print(f\"Best score: {f1_score(testY, pred, average='weighted')}\")\n"
      ]
    },
    {
      "cell_type": "markdown",
      "metadata": {
        "id": "fYSaJJPgVazc"
      },
      "source": [
        "## Mô hình VotingClassifier"
      ]
    },
    {
      "cell_type": "code",
      "execution_count": null,
      "metadata": {
        "id": "GISbRw58Vdfy"
      },
      "outputs": [],
      "source": [
        "from sklearn.ensemble import VotingClassifier\n",
        "from sklearn.svm import SVC\n",
        "from sklearn.tree import DecisionTreeClassifier\n",
        "from sklearn.linear_model import LogisticRegression\n",
        "\n",
        "# Estimators\n",
        "estimators = [\n",
        "    ('dt', DecisionTreeClassifier(class_weight='balanced')),\n",
        "    ('svm', SVC(probability=True)),\n",
        "    ('lr', LogisticRegression(class_weight='balanced'))\n",
        "]\n",
        "\n",
        "# Create VotingClassifier with hard voting\n",
        "voting_hard = VotingClassifier(estimators=estimators, voting='hard')\n",
        "\n",
        "# Create VotingClassifier with soft voting\n",
        "voting_soft = VotingClassifier(estimators=estimators, voting='soft')\n",
        "\n",
        "# Create Pipelines\n",
        "pipeline_hard = Pipeline(steps=[\n",
        "    ('column_transformer', preprocessor),\n",
        "    ('estimator', voting_hard)\n",
        "])\n",
        "\n",
        "pipeline_soft = Pipeline(steps=[\n",
        "    ('column_transformer', preprocessor),\n",
        "    ('estimator', voting_soft)\n",
        "])\n",
        "\n",
        "# Parameter grid (not applicable for VotingClassifier)\n",
        "\n",
        "# Build the models\n",
        "model_hard = build_model(trainX, trainY, pipeline_hard)\n",
        "model_soft = build_model(trainX, trainY, pipeline_soft)\n",
        "\n",
        "# Compare on training dataset (hard voting)\n",
        "pred_hard_train = model_hard.predict(trainX)\n",
        "print('Train (Hard Voting):\\n')\n",
        "print(classification_report(trainY, pred_hard_train))\n",
        "\n",
        "# Compare on training dataset (soft voting)\n",
        "pred_soft_train = model_soft.predict(trainX)\n",
        "print('Train (Soft Voting):\\n')\n",
        "print(classification_report(trainY, pred_soft_train))\n",
        "\n",
        "# Compare on testing dataset (hard voting)\n",
        "pred_hard_test = model_hard.predict(testX)\n",
        "print('Test (Hard Voting):\\n')\n",
        "print(classification_report(testY, pred_hard_test))\n",
        "\n",
        "# Compare on testing dataset (soft voting)\n",
        "pred_soft_test = model_soft.predict(testX)\n",
        "print('Test (Soft Voting):\\n')\n",
        "print(classification_report(testY, pred_soft_test))\n",
        "\n",
        "print(f\"Best score (Hard Voting): {f1_score(testY, pred_hard_test, average='weighted')}\")\n",
        "print(f\"Best score (Soft Voting): {f1_score(testY, pred_soft_test, average='weighted')}\")\n"
      ]
    },
    {
      "cell_type": "markdown",
      "metadata": {
        "id": "Iez8XCcsBBv6"
      },
      "source": [
        "# 7. Conclusion"
      ]
    },
    {
      "cell_type": "markdown",
      "metadata": {
        "id": "9kPsmtJYBBv6"
      },
      "source": [
        "* Vì trường hợp multiclass và các class có support chênh lệch nhau nhiều nên em sử dụng f1_weighted là main score để đánh giá mô hình\n",
        "\n",
        "* Trong tất cả các mô hình thì chủ yếu là giữa Class 1 và 2, 4 và 5 bị miss classified khá nhiều , còn lại các mô hình dự đoán khá tốt\n",
        "\n",
        "* Thời gian chạy SVC tăng phi tuyến với số lượng samples, vì dữ liệu khá lớn nên sẽ mất nhiều thời gian để training\n",
        "\n",
        "* Vì kết quả dự đoán class -1 rất thấp (=0), có nghĩa là các features không có ý nghĩa trong việc dự đoán class -1. Có thể class -1 là sai sót trong quá trình thu thập dữ liệu, hoặc có thể là vì một lý do nào đó. Hoặc -1 là giá trị mặc định khi khách hàng không đánh giá sản phẩm.\n",
        "\n",
        "* Kết quả nhân được:\n",
        "\n",
        "| Model | Score |\n",
        "| :--- | :--- |\n",
        "| 1. Linear SVC | 0.99 |\n",
        "| 2. SGD Linear SVC | 0.54 |\n",
        "| 3. RBF SVC | 0.69 |\n",
        "| 4. Polynomial SVC | 0.7 |"
      ]
    }
  ],
  "metadata": {
    "colab": {
      "provenance": []
    },
    "kernelspec": {
      "display_name": "env",
      "language": "python",
      "name": "python3"
    },
    "language_info": {
      "codemirror_mode": {
        "name": "ipython",
        "version": 3
      },
      "file_extension": ".py",
      "mimetype": "text/x-python",
      "name": "python",
      "nbconvert_exporter": "python",
      "pygments_lexer": "ipython3",
      "version": "3.11.4"
    }
  },
  "nbformat": 4,
  "nbformat_minor": 0
}
